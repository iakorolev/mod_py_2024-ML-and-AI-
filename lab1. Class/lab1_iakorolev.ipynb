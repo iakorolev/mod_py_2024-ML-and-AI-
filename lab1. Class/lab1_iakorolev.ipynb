{
 "cells": [
  {
   "cell_type": "markdown",
   "id": "e7c59725",
   "metadata": {},
   "source": [
    "# Лабораторная работа № 1"
   ]
  },
  {
   "cell_type": "markdown",
   "id": "42ded119",
   "metadata": {},
   "source": [
    "# Задание № 1\n",
    "\n",
    "## В программе объявлен класс Car с некоторыми атрибутами. Добавьте в него метод drive(), который будет выводить сообщение 'Вперед!', а затем вызовите этот метод.\n"
   ]
  },
  {
   "cell_type": "code",
   "execution_count": 97,
   "id": "8faf1ac2",
   "metadata": {},
   "outputs": [],
   "source": [
    "class Car:\n",
    "    brand = \"VW\"\n",
    "    model = \"Polo\"\n",
    "\n",
    "    def drive():\n",
    "        print(\"Вперед!\")"
   ]
  },
  {
   "cell_type": "markdown",
   "id": "f3aed3fb",
   "metadata": {},
   "source": [
    "## Проверка работы класса:"
   ]
  },
  {
   "cell_type": "code",
   "execution_count": 98,
   "id": "1e22f1c7",
   "metadata": {},
   "outputs": [
    {
     "name": "stdout",
     "output_type": "stream",
     "text": [
      "Вперед!\n"
     ]
    }
   ],
   "source": [
    "Car.drive()"
   ]
  },
  {
   "cell_type": "markdown",
   "id": "b02e4b61",
   "metadata": {},
   "source": [
    "# Задание № 2\n",
    "\n",
    "## Создайте класс Terminator и реализуйте в нем два метода:\n",
    "* __say_greetings, печатающий фразу 'I am T-700, give me your ride and jacket!'__\n",
    "- __say_goodbye, печатающий фразу 'I'll be back!'__\n",
    "## Объявите два экземпляра вашего класс: T700 и T800. Вызовите каждый из методов для каждого экземпляра класса поочередно.\n"
   ]
  },
  {
   "cell_type": "code",
   "execution_count": 71,
   "id": "348e3826",
   "metadata": {},
   "outputs": [],
   "source": [
    "class Terminator:\n",
    "    def say_greetings(self):\n",
    "        print(\"I am T-700, give me your ride and jacket!\")\n",
    "\n",
    "    def say_goodbye(self):\n",
    "        print(\"I'll be back!\")"
   ]
  },
  {
   "cell_type": "markdown",
   "id": "e90eb797",
   "metadata": {},
   "source": [
    "## Проверка работы класса:"
   ]
  },
  {
   "cell_type": "code",
   "execution_count": 75,
   "id": "fa7e8349",
   "metadata": {},
   "outputs": [
    {
     "name": "stdout",
     "output_type": "stream",
     "text": [
      "I am T-700, give me your ride and jacket!\n",
      "I'll be back!\n",
      "I am T-700, give me your ride and jacket!\n",
      "I'll be back!\n"
     ]
    }
   ],
   "source": [
    "T700 = Terminator()\n",
    "T800 = Terminator()\n",
    "\n",
    "T700.say_greetings()\n",
    "T700.say_goodbye()\n",
    "\n",
    "T800.say_greetings()\n",
    "T800.say_goodbye()"
   ]
  },
  {
   "cell_type": "markdown",
   "id": "d9824c48",
   "metadata": {},
   "source": [
    "# Задание № 3\n",
    "## Создайте класс Motorbike, имеющий инициализатор __init__, который принимает объем двигателя и год выпуска мотоцикла в качестве аргументов и сохраняет их в атрибутах engine и year.\n",
    "## Объем двигателя и год выпуска мотоцикла передаются на вход программы пользователем."
   ]
  },
  {
   "cell_type": "code",
   "execution_count": 99,
   "id": "4c743997",
   "metadata": {},
   "outputs": [],
   "source": [
    "class Motorbike:\n",
    "\n",
    "    def __init__(self, engine, year):\n",
    "        self.engine = engine\n",
    "        self.year = year\n",
    "    \n",
    "    def output(self): # функция для теста класса\n",
    "        return f\"\\nОбъем двигателя мотоцикла: {self.engine}\\nГод выпуска мотоцикла: {self.year}\""
   ]
  },
  {
   "cell_type": "markdown",
   "id": "e87456b6",
   "metadata": {},
   "source": [
    "## Проверка работы класса:"
   ]
  },
  {
   "cell_type": "code",
   "execution_count": 100,
   "id": "7982c185",
   "metadata": {},
   "outputs": [
    {
     "name": "stdout",
     "output_type": "stream",
     "text": [
      "Введите объем двигателя мотоцикла: 2.5\n",
      "Введите год выпуска мотоцикла: 2022\n",
      "\n",
      "Объем двигателя мотоцикла: 2.5\n",
      "Год выпуска мотоцикла: 2022\n"
     ]
    }
   ],
   "source": [
    "engine = input(\"Введите объем двигателя мотоцикла: \")\n",
    "year = input(\"Введите год выпуска мотоцикла: \")\n",
    "\n",
    "bike = Motorbike(engine, year)\n",
    "print(bike.output())"
   ]
  },
  {
   "cell_type": "markdown",
   "id": "fa4c8e8e",
   "metadata": {},
   "source": [
    "# Задание № 4\n",
    "\n",
    "## Создайте класс Car, имеющий инициализатор __init__, который принимает и инициализирует атрибуты класса: brand, model, price, а также атрибут name – строку следующего вида: <Брэнд> <Модель>. \n",
    "## Брэнд, модель и цена автомобиля передаются на вход программы пользователем."
   ]
  },
  {
   "cell_type": "code",
   "execution_count": 102,
   "id": "440af1db",
   "metadata": {},
   "outputs": [],
   "source": [
    "class Car:\n",
    "\n",
    "    def __init__(self, br, mod, pr):\n",
    "        self.brand = br\n",
    "        self.model = mod\n",
    "        self.price = price\n",
    "        self.name = f\"{br} {mod}\"\n",
    "\n",
    "    def __str__(self):\n",
    "        return f\"\"\"\\n{self.brand} - Бренд автомобиля\\n{self.model} - Модель автомобиля\\n{self.price} - \n",
    "        Цена автомобиля\\n{self.name} - Бренд и модель автомобиля\n",
    "        \"\"\""
   ]
  },
  {
   "cell_type": "markdown",
   "id": "3a6d1f14",
   "metadata": {},
   "source": [
    "## Проверка работы класса:"
   ]
  },
  {
   "cell_type": "code",
   "execution_count": 103,
   "id": "902c8136",
   "metadata": {},
   "outputs": [
    {
     "name": "stdout",
     "output_type": "stream",
     "text": [
      "Введите марку автомобиля: BMW\n",
      "Введите модель автомобиля: 5-series\n",
      "Введите цену автомобиля: 3000000\n",
      "\n",
      "BMW - Бренд автомобиля\n",
      "5-series - Модель автомобиля\n",
      "3000000 - Цена автомобиля\n",
      "BMW 5-series - Бренд и модель автомобиля\n",
      "        \n"
     ]
    }
   ],
   "source": [
    "brand = input(\"Введите марку автомобиля: \")\n",
    "model = input(\"Введите модель автомобиля: \")\n",
    "price = input(\"Введите цену автомобиля: \")\n",
    "\n",
    "bmw = Car(brand, model, price)\n",
    "print(bmw)"
   ]
  },
  {
   "cell_type": "markdown",
   "id": "e8baeef9",
   "metadata": {},
   "source": [
    "# Задание № 5\n",
    "\n",
    "## Создайте класс HockeyPlayer, у которого есть:\n",
    "- __инициализатор__ __init__, __принимающий в качестве аргументов first_name и last_name, то есть имя и фамилию хоккеиста. Также во время инициализации объекта необходимо создать два атрибута-счетчика: goals и assists. Эти атрибуты будут хранить информацию о забитых голах и передачах каждого хоккеиста. Оба атрибута необходимо проинициализировать нулями;__\n",
    "- __метод add_goals, который добавляет количество голов в счетчик игрока. По умолчанию добавляет один гол;__\n",
    "- __метод add_assists, который добавляет количество передач в счетчик игрока. По умолчанию добавляет одну передачу;__\n",
    "- __метод statistics, который считает результативность игрока и возвращает строку вида: <Имя> <Фамилия> - <голы> + 0.5*<передачи>__\n",
    "\n",
    "## Фамилия, имя, количество голов и передач хоккеиста передаются на вход программы пользователем.\n"
   ]
  },
  {
   "cell_type": "code",
   "execution_count": 94,
   "id": "b56fe578",
   "metadata": {},
   "outputs": [],
   "source": [
    "class HockeyPlayer:\n",
    "\n",
    "    def __init__(self, firs_name, last_name, goals=0, assist=0):\n",
    "        self.first_name = firs_name\n",
    "        self.last_name = last_name\n",
    "        self.goals = goals\n",
    "        self.assist = assist\n",
    "\n",
    "    def add_goals(self):\n",
    "        self.goals = int(self.goals) + 1\n",
    "\n",
    "    def add_assist(self):\n",
    "        self.assist = int(self.assist) + 1\n",
    "\n",
    "    def statistics(self):\n",
    "        return f\"\"\"\\n{self.first_name} {self.last_name} - {float(self.goals) + 0.5*float(self.assist)}\"\"\""
   ]
  },
  {
   "cell_type": "markdown",
   "id": "48680723",
   "metadata": {},
   "source": [
    "## Проверка работы класса:"
   ]
  },
  {
   "cell_type": "code",
   "execution_count": 105,
   "id": "0c8c9bb7",
   "metadata": {},
   "outputs": [
    {
     "name": "stdout",
     "output_type": "stream",
     "text": [
      "Введите имя хоккеиста: Александр\n",
      "Введите фамилию хоккеиста: Овечкин\n",
      "Введите кол-во забитых шайб: 30\n",
      "Введите кол-во передач: 20\n",
      "До функции add_goals  30\n",
      "После add_goals  31\n",
      "\n",
      "Александр Овечкин - 41.0\n"
     ]
    }
   ],
   "source": [
    "A,O = input(\"Введите имя хоккеиста: \"), input(\"Введите фамилию хоккеиста: \")\n",
    "goals = input(\"Введите кол-во забитых шайб: \")\n",
    "assists = input(\"Введите кол-во передач: \")\n",
    "\n",
    "Aleksandr_Ovechkin = HockeyPlayer(A, O, goals, assists)\n",
    "\n",
    "print(\"До функции add_goals \", Aleksandr_Ovechkin.goals)\n",
    "\n",
    "Aleksandr_Ovechkin.add_goals()\n",
    "\n",
    "print(\"После add_goals \", Aleksandr_Ovechkin.goals)\n",
    "\n",
    "\n",
    "print(Aleksandr_Ovechkin.statistics())"
   ]
  },
  {
   "cell_type": "markdown",
   "id": "c3b22e32",
   "metadata": {},
   "source": [
    "# Задание № 6\n",
    "\n",
    "## Создайте класс Array, который содержит атрибут values и 3 метода:\n",
    "- __Инициализатор__ __init__, __который принимает произвольное число аргументов, фильтрует их с помощью второго метода и сохраняет в values.__\n",
    "- __get_integers, который вызывается из инициализатора, фильтрует все его аргументы оставляя только числовые, а затем сортирует их по возрастанию и возвращает в инициализатор в виде списка.__\n",
    "- __Переопределенный метод__ __str__, __который возвращает строку: \"Массив(<Значение1>, <Значение2>, ...)\", если массив не пустой, или строку \"Пустой массив\", если массив пуст.__"
   ]
  },
  {
   "cell_type": "code",
   "execution_count": 107,
   "id": "53820da9",
   "metadata": {},
   "outputs": [],
   "source": [
    "class Array:\n",
    "    values = 0\n",
    "\n",
    "    def __init__(self, *args):\n",
    "        self.args = []\n",
    "        self.args = args\n",
    "        self.values = self.get_integers()\n",
    "\n",
    "    def get_integers(self):\n",
    "        result = list(filter(lambda x: type(x) is int or type(x) is float, self.args))\n",
    "        return sorted(result)\n",
    "\n",
    "    def __str__(self):\n",
    "        if self.values:\n",
    "            return f\"\\nМассив{self.values}\"\n",
    "        else:\n",
    "            return f\"\\nМассив пуст\""
   ]
  },
  {
   "cell_type": "markdown",
   "id": "d3b3dd6d",
   "metadata": {},
   "source": [
    "## Проверка работы класса:"
   ]
  },
  {
   "cell_type": "code",
   "execution_count": 108,
   "id": "769c0a8a",
   "metadata": {},
   "outputs": [
    {
     "name": "stdout",
     "output_type": "stream",
     "text": [
      "\n",
      "Массив[1, 2, 2.1, 2.124, 3, 4, 6, 31]\n",
      "\n",
      "Массив пуст\n"
     ]
    }
   ],
   "source": [
    "n = Array(1, 2, 3, 4, 6, \"242\", 31, \"ke\", 2.1, \"saw\", 2.124)\n",
    "print(n)\n",
    "\n",
    "empty = Array()\n",
    "print(empty)"
   ]
  },
  {
   "cell_type": "code",
   "execution_count": null,
   "id": "60f456d2",
   "metadata": {},
   "outputs": [],
   "source": []
  }
 ],
 "metadata": {
  "kernelspec": {
   "display_name": "Python 3 (ipykernel)",
   "language": "python",
   "name": "python3"
  },
  "language_info": {
   "codemirror_mode": {
    "name": "ipython",
    "version": 3
   },
   "file_extension": ".py",
   "mimetype": "text/x-python",
   "name": "python",
   "nbconvert_exporter": "python",
   "pygments_lexer": "ipython3",
   "version": "3.11.5"
  }
 },
 "nbformat": 4,
 "nbformat_minor": 5
}
