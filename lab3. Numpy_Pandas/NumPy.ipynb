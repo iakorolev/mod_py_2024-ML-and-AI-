{
  "cells": [
    {
      "cell_type": "markdown",
      "metadata": {
        "id": "PzhYIrETNdZR"
      },
      "source": [
        "# Вычисления с помощью NumPy"
      ]
    },
    {
      "cell_type": "markdown",
      "metadata": {
        "id": "OBKfjECMNdZS"
      },
      "source": [
        "## Многомерные массивы в NumPy\n",
        "\n",
        "Библиотека `numpy` поддерживает работу с многомерными массивами, в том числе, с матрицами, и очень хороша для научных расчётов. Библиотека написана не только на `Python`, но и на языке `C`, который является более низкоуровневым и работает значительно быстрее, поэтому расчёты в `numpy` производятся во много раз быстрее, чем если бы мы использовали для этого стандартные структуры данных из `Python`.\n",
        "\n",
        "Установить библиотеку `numpy` можно следующим образом:\n",
        "\n",
        "* Если вы используете `Python` в составе дистрибутива `Anaconda`, то достаточно в командной строке ввести:   \n",
        "`conda install numpy`\n",
        "\n",
        "* Если вы используете `Python` отдельно, то же самое можно сделать с помощью пакетного менеджера `pip`:   \n",
        "`pip install numpy`"
      ]
    },
    {
      "cell_type": "code",
      "execution_count": 1,
      "metadata": {
        "id": "OuuaXS_-GeuE"
      },
      "outputs": [],
      "source": [
        "import numpy as np"
      ]
    },
    {
      "cell_type": "markdown",
      "metadata": {
        "id": "L8CJ1FpmNdZU"
      },
      "source": [
        "Чтобы задать `numpy`-массив, достаточно задать обычный питоновский список `list`, а затем поместить его внутрь функции `np.array`:"
      ]
    },
    {
      "cell_type": "code",
      "execution_count": 2,
      "metadata": {
        "colab": {
          "base_uri": "https://localhost:8080/"
        },
        "id": "AmC-Go00NdZV",
        "outputId": "d3d66c13-557e-46c9-923e-8b714da9d2f5"
      },
      "outputs": [
        {
          "name": "stdout",
          "output_type": "stream",
          "text": [
            "[1 2 3]\n"
          ]
        }
      ],
      "source": [
        "a = np.array([1, 2, 3])\n",
        "\n",
        "print(a)"
      ]
    },
    {
      "cell_type": "markdown",
      "metadata": {
        "id": "-6zvCYlQNdZV"
      },
      "source": [
        "Внутрь этой функции можно подавать также питоновский кортеж `tuple`.\n",
        "\n",
        "Проверим, к какому типу относится массив `a`:"
      ]
    },
    {
      "cell_type": "code",
      "execution_count": 3,
      "metadata": {
        "colab": {
          "base_uri": "https://localhost:8080/"
        },
        "id": "_czOAuDANdZW",
        "outputId": "07907969-7da1-4e30-aaed-339a96632498"
      },
      "outputs": [
        {
          "data": {
            "text/plain": [
              "numpy.ndarray"
            ]
          },
          "execution_count": 3,
          "metadata": {},
          "output_type": "execute_result"
        }
      ],
      "source": [
        "type(a)"
      ]
    },
    {
      "cell_type": "markdown",
      "metadata": {
        "id": "j9CvPz_-NdZW"
      },
      "source": [
        "`ndarray` - сокращение от $n$-dimensional array ($n$-мерный массив).\n",
        "\n",
        "В отличие от стандартных питоновских структур данных, в `numpy` массивы предпочитают данные одного типа. Например, если функция `np.array` вызывается от списка, содержащего как целые (`int`), так и дробные (`float`) значения, то в результирующем массиве все значения будут приведены к типу `float`. Аналогично, если в подаваемом списке есть хотя бы одна строка `str`, то в соответствующем массиве все значения будут приведены к типу `str`. Если мы хотим задать свой тип, к которому нужно привести данные, это можно сделать с помощью аргумента `dtype`:"
      ]
    },
    {
      "cell_type": "code",
      "execution_count": 4,
      "metadata": {
        "colab": {
          "base_uri": "https://localhost:8080/"
        },
        "id": "88TFBTAuNdZY",
        "outputId": "777a2909-7138-4c02-af1f-36966da6779b"
      },
      "outputs": [
        {
          "name": "stdout",
          "output_type": "stream",
          "text": [
            "['1' '2' '3.6']\n"
          ]
        }
      ],
      "source": [
        "a = np.array([1, 2, 3.6], dtype=str)\n",
        "\n",
        "print(a)"
      ]
    },
    {
      "cell_type": "markdown",
      "metadata": {
        "id": "c4ZY7r86NdZY"
      },
      "source": [
        "Получить конкретный элемент массива можно теми же способами, что и в стандартных питоновских структурах данных - с помощью квадратных скобок. В `numpy`, как и во всём питоне, индексация начинается с нуля. Например, получить второй элемент из массива `a` (т.е. элемент с индексом $1$) можно так:"
      ]
    },
    {
      "cell_type": "code",
      "execution_count": 5,
      "metadata": {
        "colab": {
          "base_uri": "https://localhost:8080/",
          "height": 36
        },
        "id": "avBHmsqPNdZZ",
        "outputId": "3f93576b-3b1c-4891-e5d1-cb8b374e02ac"
      },
      "outputs": [
        {
          "data": {
            "application/vnd.google.colaboratory.intrinsic+json": {
              "type": "string"
            },
            "text/plain": [
              "'2'"
            ]
          },
          "execution_count": 5,
          "metadata": {},
          "output_type": "execute_result"
        }
      ],
      "source": [
        "a[1]"
      ]
    },
    {
      "cell_type": "markdown",
      "metadata": {
        "id": "EzpcC_9jNdZZ"
      },
      "source": [
        "Также в `numpy` массивах можно использовать отрицательную индексацию и делать срезы, как и в стандартных списках из питона:"
      ]
    },
    {
      "cell_type": "code",
      "execution_count": 6,
      "metadata": {
        "colab": {
          "base_uri": "https://localhost:8080/",
          "height": 36
        },
        "id": "sZM0Ss8ZNdZZ",
        "outputId": "9337e49d-1925-4572-af45-218763d7c71e"
      },
      "outputs": [
        {
          "data": {
            "application/vnd.google.colaboratory.intrinsic+json": {
              "type": "string"
            },
            "text/plain": [
              "'3.6'"
            ]
          },
          "execution_count": 6,
          "metadata": {},
          "output_type": "execute_result"
        }
      ],
      "source": [
        "a[-1]"
      ]
    },
    {
      "cell_type": "code",
      "execution_count": 7,
      "metadata": {
        "colab": {
          "base_uri": "https://localhost:8080/"
        },
        "id": "-OJJ4m1XNdZa",
        "outputId": "e73b5e49-bd54-41c9-fb11-2c3608c6fb23"
      },
      "outputs": [
        {
          "data": {
            "text/plain": [
              "array(['2', '3.6'], dtype='<U3')"
            ]
          },
          "execution_count": 7,
          "metadata": {},
          "output_type": "execute_result"
        }
      ],
      "source": [
        "a[1:3]"
      ]
    },
    {
      "cell_type": "markdown",
      "metadata": {
        "id": "EG7mFzihNdZc"
      },
      "source": [
        "### Двумерные массивы\n",
        "\n",
        "Пока что мы работали лишь с одномерными массивами. Также в `numpy` можно задать и многомерные массивы. Например, двумерный массив - это массив, каждый элемент из которого - это снова массив.\n",
        "\n",
        "Для `numpy`-массива `a` можно проверить его размерность с помощью атрибута `ndim` и форму с помощью атрибута `shape`:"
      ]
    },
    {
      "cell_type": "code",
      "execution_count": 8,
      "metadata": {
        "colab": {
          "base_uri": "https://localhost:8080/"
        },
        "id": "PmfYdwbjNdZc",
        "outputId": "d9b084ca-886b-4170-ad4f-34271ecde673"
      },
      "outputs": [
        {
          "name": "stdout",
          "output_type": "stream",
          "text": [
            "Размерность a: 1\n",
            "Форма a: (3,)\n"
          ]
        }
      ],
      "source": [
        "print(\"Размерность a: {}\".format(a.ndim))\n",
        "\n",
        "print(\"Форма a: {}\".format(a.shape))"
      ]
    },
    {
      "cell_type": "markdown",
      "metadata": {
        "id": "fDILbrkeNdZc"
      },
      "source": [
        "В этом случае размерность равна $1$, а `shape` возвращает кортеж из одного элемента. Зададим теперь двумерный массив:"
      ]
    },
    {
      "cell_type": "code",
      "execution_count": 9,
      "metadata": {
        "colab": {
          "base_uri": "https://localhost:8080/"
        },
        "id": "IszOgqFRGexN",
        "outputId": "f7ea7738-1f57-41ee-c27d-1ee6810ad90f"
      },
      "outputs": [
        {
          "name": "stdout",
          "output_type": "stream",
          "text": [
            "[[1 2 3 1]\n",
            " [4 5 6 4]\n",
            " [7 8 9 7]]\n",
            "Размерность A: 2\n",
            "Форма A: (3, 4)\n"
          ]
        }
      ],
      "source": [
        "A = np.array([[1, 2, 3, 1],\n",
        "              [4, 5, 6, 4],\n",
        "              [7, 8, 9, 7]])\n",
        "\n",
        "print(A)\n",
        "\n",
        "print(\"Размерность A: {}\".format(A.ndim))\n",
        "\n",
        "print(\"Форма A: {}\".format(A.shape))"
      ]
    },
    {
      "cell_type": "markdown",
      "metadata": {
        "id": "E0PADTo7NdZd"
      },
      "source": [
        "Атрибут `shape` - это всегда кортеж, размер которого равен размерности массива. Каждый элемент этого кортежа - это размер в каждом измерении. Например, у нашей матрицы $A$, судя по этому атрибуту, $3$ строки и $4$ столбца.\n",
        "\n",
        "С помощью атрибута `size` можно увидеть общее количество элементов массива:"
      ]
    },
    {
      "cell_type": "code",
      "execution_count": 10,
      "metadata": {
        "colab": {
          "base_uri": "https://localhost:8080/"
        },
        "id": "32S6o0NxNdZd",
        "outputId": "743e0451-5c97-48e6-c6d4-09eba147743e"
      },
      "outputs": [
        {
          "data": {
            "text/plain": [
              "12"
            ]
          },
          "execution_count": 10,
          "metadata": {},
          "output_type": "execute_result"
        }
      ],
      "source": [
        "A.size"
      ]
    },
    {
      "cell_type": "markdown",
      "metadata": {
        "id": "2USRVOdkNdZf"
      },
      "source": [
        "В случае вложенных друг в друга стандартных питоновских списков `list`, чтобы получить конкретный элемент массива, нужно использовать несколько пар квадратных скобок: `A[0][0]`. В `numpy` массивы также поддерживают такую запись, однако, здесь есть и более удобный вариант - просто писать индексы через запятую:"
      ]
    },
    {
      "cell_type": "code",
      "execution_count": 11,
      "metadata": {
        "colab": {
          "base_uri": "https://localhost:8080/"
        },
        "id": "2_qgco-RNdZf",
        "outputId": "4e8a1b71-6289-4a8b-a914-d05f710c3d26"
      },
      "outputs": [
        {
          "data": {
            "text/plain": [
              "1"
            ]
          },
          "execution_count": 11,
          "metadata": {},
          "output_type": "execute_result"
        }
      ],
      "source": [
        "A[0, 0]"
      ]
    },
    {
      "cell_type": "markdown",
      "metadata": {
        "id": "7zBECrRJNdZf"
      },
      "source": [
        "Это же работает и в случае отрицательной индексации и в случае срезов:"
      ]
    },
    {
      "cell_type": "code",
      "execution_count": 12,
      "metadata": {
        "colab": {
          "base_uri": "https://localhost:8080/"
        },
        "id": "OMvNj54JNdZf",
        "outputId": "5d19e99f-370f-485f-a6cc-8b6e11be277e"
      },
      "outputs": [
        {
          "data": {
            "text/plain": [
              "9"
            ]
          },
          "execution_count": 12,
          "metadata": {},
          "output_type": "execute_result"
        }
      ],
      "source": [
        "A[-1, -2]"
      ]
    },
    {
      "cell_type": "code",
      "execution_count": 13,
      "metadata": {
        "colab": {
          "base_uri": "https://localhost:8080/"
        },
        "id": "SqzJnLyXNdZg",
        "outputId": "08007171-0a5e-485f-a29d-a7fdb9315b62"
      },
      "outputs": [
        {
          "data": {
            "text/plain": [
              "array([[4, 5, 6],\n",
              "       [7, 8, 9]])"
            ]
          },
          "execution_count": 13,
          "metadata": {},
          "output_type": "execute_result"
        }
      ],
      "source": [
        "A[1:, :3]"
      ]
    },
    {
      "cell_type": "markdown",
      "metadata": {
        "id": "SushU2DbNdZh"
      },
      "source": [
        "В случае срезов для `numpy`-массивов важно отметить, что, записывая срез `numpy`-массива, мы ничего нового не создаём, мы лишь получаем _представление_ (_view_) - ссылку на какие-то отдельные элементы оригинального массива. Это означает, что если мы \"создали\" срез из `numpy`-массива, а затем поменяли в нём что-то - эти изменения коснутся и оригинального массива:"
      ]
    },
    {
      "cell_type": "code",
      "execution_count": 14,
      "metadata": {
        "colab": {
          "base_uri": "https://localhost:8080/"
        },
        "id": "YFtWF5AnNdZh",
        "outputId": "bcbd7de3-4f0f-4b22-f4f6-5e3cb5e1179d"
      },
      "outputs": [
        {
          "name": "stdout",
          "output_type": "stream",
          "text": [
            "[[1 2 3 1]\n",
            " [4 5 6 4]\n",
            " [7 8 9 7]]\n"
          ]
        }
      ],
      "source": [
        "print(A)"
      ]
    },
    {
      "cell_type": "code",
      "execution_count": 15,
      "metadata": {
        "colab": {
          "base_uri": "https://localhost:8080/"
        },
        "id": "Q_NfDPPcNdZi",
        "outputId": "7e73af05-8b8b-4a2a-ba20-95121e198587"
      },
      "outputs": [
        {
          "name": "stdout",
          "output_type": "stream",
          "text": [
            "[[4 5 6]\n",
            " [7 8 9]]\n"
          ]
        }
      ],
      "source": [
        "B = A[1:, :3]\n",
        "\n",
        "print(B)"
      ]
    },
    {
      "cell_type": "code",
      "execution_count": 16,
      "metadata": {
        "colab": {
          "base_uri": "https://localhost:8080/"
        },
        "id": "LNWALFmqNdZi",
        "outputId": "d1df9922-be82-4911-a814-d1a8a5bdbee5"
      },
      "outputs": [
        {
          "name": "stdout",
          "output_type": "stream",
          "text": [
            "[[ 1  2  3  1]\n",
            " [-4  5  6  4]\n",
            " [ 7  8  9  7]]\n"
          ]
        }
      ],
      "source": [
        "B[0, 0] = -4\n",
        "\n",
        "print(A)"
      ]
    },
    {
      "cell_type": "markdown",
      "metadata": {
        "id": "_Q14Djw7NdZi"
      },
      "source": [
        "Наоборот, если мы меняем значения в оригинальном массиве, они коснутся и всех его представлений, в которых используются эти значения:"
      ]
    },
    {
      "cell_type": "code",
      "execution_count": 17,
      "metadata": {
        "colab": {
          "base_uri": "https://localhost:8080/"
        },
        "id": "JTu20srANdZi",
        "outputId": "79cd5cc4-6ba7-4f30-9a97-b574ca5180a4"
      },
      "outputs": [
        {
          "name": "stdout",
          "output_type": "stream",
          "text": [
            "[[-4  5  6]\n",
            " [-7  8  9]]\n"
          ]
        }
      ],
      "source": [
        "A[2, 0] = -7\n",
        "\n",
        "print(B)"
      ]
    },
    {
      "cell_type": "code",
      "execution_count": 18,
      "metadata": {
        "id": "zkn41Q-uGexs"
      },
      "outputs": [],
      "source": [
        "b = np.array([[3],\n",
        "     [1],\n",
        "     [2]])"
      ]
    },
    {
      "cell_type": "markdown",
      "metadata": {
        "id": "00kZPbEVNdZk"
      },
      "source": [
        "Если мы хотим всего этого избежать и создать действительно новый массив, нужно использовать метод `copy`:"
      ]
    },
    {
      "cell_type": "code",
      "execution_count": 19,
      "metadata": {
        "colab": {
          "base_uri": "https://localhost:8080/"
        },
        "id": "PPwW3xPwNdZl",
        "outputId": "25fe336f-03b2-4a58-97a6-7eb4123111c4"
      },
      "outputs": [
        {
          "name": "stdout",
          "output_type": "stream",
          "text": [
            "[[6 4]\n",
            " [9 7]]\n"
          ]
        }
      ],
      "source": [
        "C = A[1:3, 2:4].copy()\n",
        "\n",
        "print(C)"
      ]
    },
    {
      "cell_type": "code",
      "execution_count": 20,
      "metadata": {
        "colab": {
          "base_uri": "https://localhost:8080/"
        },
        "id": "x1QbJQa2NdZl",
        "outputId": "20d5ace5-7e50-4b8b-bda0-46f99b194f63"
      },
      "outputs": [
        {
          "name": "stdout",
          "output_type": "stream",
          "text": [
            "[[ 1  2  3  1]\n",
            " [-4  5  6  4]\n",
            " [-7  8  9  7]]\n"
          ]
        }
      ],
      "source": [
        "C[0, 0] = -6\n",
        "\n",
        "print(A)"
      ]
    },
    {
      "cell_type": "markdown",
      "metadata": {
        "id": "gwxv0LrNNdZm"
      },
      "source": [
        "### Типы данных в NumPy\n",
        "\n",
        "Самыми распространёнными типами в `numpy` являются два целочисленных типа: `np.int32` и `np.int64` и два дробных типа: `np.float32` и `np.float64`. Они применяются для, соответственно, $32$-битных и $64$-битных чисел. Последние требуют вдвое больше памяти, чем первые, однако, если вы знаете, что в вашем массиве, например, используются целые числа, которые по модулю больше, чем $2 \\cdot 10^9$, то стоит использовать `np.int64`."
      ]
    },
    {
      "cell_type": "markdown",
      "metadata": {
        "id": "dHiuuCHqNdZm"
      },
      "source": [
        "## Применение NumPy в линейной алгебре\n",
        "\n",
        "### Векторы\n",
        "\n",
        "Для начала разберёмся с тем, как с помощью `numpy` работать с векторами. Зададим несколько векторов:"
      ]
    },
    {
      "cell_type": "code",
      "execution_count": 21,
      "metadata": {
        "id": "x1IHQK6cNdZm"
      },
      "outputs": [],
      "source": [
        "a = np.array([0, 1, 2, 3, 4])\n",
        "b = np.array([5, 6, 7, 8, 9])"
      ]
    },
    {
      "cell_type": "markdown",
      "metadata": {
        "id": "ooUW3OZtNdZm"
      },
      "source": [
        "Сейчас мы ограничимся случаем, когда все векторы имеют одинаковый размер.\n",
        "\n",
        "Сложение векторов можно выполнять, просто складывая массивы. Отметим, что это поведение отличается от сложения обычных питоновских списков `list`: списки в таком случае просто склеиваются в один."
      ]
    },
    {
      "cell_type": "code",
      "execution_count": 22,
      "metadata": {
        "colab": {
          "base_uri": "https://localhost:8080/"
        },
        "id": "y-VJ9AnbNdZn",
        "outputId": "d3563170-2984-48d7-eefb-551ea97e93d8"
      },
      "outputs": [
        {
          "name": "stdout",
          "output_type": "stream",
          "text": [
            "[0, 1, 2, 3, 4, 5, 6, 7, 8, 9]\n"
          ]
        }
      ],
      "source": [
        "a_ = [0, 1, 2, 3, 4]\n",
        "b_ = [5, 6, 7, 8, 9]\n",
        "\n",
        "c_ = a_ + b_\n",
        "\n",
        "print(c_)"
      ]
    },
    {
      "cell_type": "markdown",
      "metadata": {
        "id": "1otNkEIDNdZo"
      },
      "source": [
        "В `numpy` же массивы в результате такой операции складываются поэлементно:"
      ]
    },
    {
      "cell_type": "code",
      "execution_count": 23,
      "metadata": {
        "colab": {
          "base_uri": "https://localhost:8080/"
        },
        "id": "lMPy4XapNdZo",
        "outputId": "f51d2e54-84ee-4c08-f621-e075682b2e05"
      },
      "outputs": [
        {
          "name": "stdout",
          "output_type": "stream",
          "text": [
            "[ 5  7  9 11 13]\n"
          ]
        }
      ],
      "source": [
        "c = a + b\n",
        "\n",
        "print(c)"
      ]
    },
    {
      "cell_type": "markdown",
      "metadata": {
        "id": "AYDjl1VTNdZo"
      },
      "source": [
        "Также массивы `numpy` можно складывать с помощью функции `np.add`:"
      ]
    },
    {
      "cell_type": "code",
      "execution_count": 24,
      "metadata": {
        "colab": {
          "base_uri": "https://localhost:8080/"
        },
        "id": "Z9fks6k-NdZo",
        "outputId": "ac794a25-2358-4dc0-901e-4130041c98ce"
      },
      "outputs": [
        {
          "name": "stdout",
          "output_type": "stream",
          "text": [
            "[ 5  7  9 11 13]\n"
          ]
        }
      ],
      "source": [
        "c = np.add(a, b)\n",
        "\n",
        "print(c)"
      ]
    },
    {
      "cell_type": "markdown",
      "metadata": {
        "id": "1EmINoMkNdZo"
      },
      "source": [
        "Аналогично, есть два способа вычитать векторы друг из друга:\n",
        "\n",
        "* `d = a - b`\n",
        "* `d = np.subtract(a, b)`"
      ]
    },
    {
      "cell_type": "markdown",
      "metadata": {
        "id": "mX53GeWXNdZp"
      },
      "source": [
        "Для умножения вектора на скаляр также можно пользоваться достаточно естественной записью:"
      ]
    },
    {
      "cell_type": "code",
      "execution_count": 25,
      "metadata": {
        "colab": {
          "base_uri": "https://localhost:8080/"
        },
        "id": "JZ6C-_fTNdZq",
        "outputId": "bace5300-8cab-4d92-b132-dd63c76eacf0"
      },
      "outputs": [
        {
          "name": "stdout",
          "output_type": "stream",
          "text": [
            "[ 0  3  6  9 12]\n"
          ]
        }
      ],
      "source": [
        "e = a * 3\n",
        "\n",
        "print(e)"
      ]
    },
    {
      "cell_type": "markdown",
      "metadata": {
        "id": "iqV-bhslNdZq"
      },
      "source": [
        "При этом скаляр может быть каким угодно. При умножении на скаляр, каждая координата вектора умножается на этот скаляр.\n",
        "\n",
        "Это поведение тоже отличается от поведения питоновских списков `list` при умножении на число. Последние при этом дублируются заданное количество раз. Скаляр здесь, кроме того, может быть только положительным целым."
      ]
    },
    {
      "cell_type": "code",
      "execution_count": 26,
      "metadata": {
        "colab": {
          "base_uri": "https://localhost:8080/"
        },
        "id": "Uz2FGkGyNdZr",
        "outputId": "daec1b90-3e07-4c72-f3a2-3010a4897c6c"
      },
      "outputs": [
        {
          "data": {
            "text/plain": [
              "[1, 2, 3, 1, 2, 3, 1, 2, 3]"
            ]
          },
          "execution_count": 26,
          "metadata": {},
          "output_type": "execute_result"
        }
      ],
      "source": [
        "[1, 2, 3] * 3"
      ]
    },
    {
      "cell_type": "markdown",
      "metadata": {
        "id": "tMA0eqpINdZs"
      },
      "source": [
        "Вот ещё несколько способов умножить вектор на скаляр в `numpy`:\n",
        "\n",
        "* с помощью функции `np.multiply`: `e = np.multiply(a, 3)`\n",
        "* с помощью функции `np.dot`: `e = np.dot(a, 3)`\n",
        "* с помощью метода `a.dot`, который есть у любого `numpy`-массива: `e = a.dot(3)`"
      ]
    },
    {
      "cell_type": "markdown",
      "metadata": {
        "id": "33g8x_RYNdZt"
      },
      "source": [
        "Функция `np.dot` (так же, как и метод `a.dot`), кроме того, может вычислять скалярное произведение векторов, а также произведение матриц (об этом чуть позже).\n",
        "\n",
        "Посчитаем скалярное произведение векторов `a` и `b`. Напомним, что чтобы вычислить скалярное произведение двух векторов, нужно попарно перемножить их координаты (первую с первой, вторую со второй и т.д.), а затем сложить результаты."
      ]
    },
    {
      "cell_type": "code",
      "execution_count": 27,
      "metadata": {
        "colab": {
          "base_uri": "https://localhost:8080/"
        },
        "id": "2nWbBkXYNdZt",
        "outputId": "6695cf6d-35bb-454e-a5e3-9e1f1ffcade2"
      },
      "outputs": [
        {
          "name": "stdout",
          "output_type": "stream",
          "text": [
            "80\n"
          ]
        }
      ],
      "source": [
        "sp = a.dot(b)\n",
        "\n",
        "print(sp)"
      ]
    },
    {
      "cell_type": "markdown",
      "metadata": {
        "id": "D7oD6b0LNdZu"
      },
      "source": [
        "Также скалярное произведение векторов можно вычислять с помощью оператора `@`:"
      ]
    },
    {
      "cell_type": "code",
      "execution_count": 28,
      "metadata": {
        "colab": {
          "base_uri": "https://localhost:8080/"
        },
        "id": "H22hWqMnNdZu",
        "outputId": "1808402c-e078-40a2-c853-16d6146fc404"
      },
      "outputs": [
        {
          "name": "stdout",
          "output_type": "stream",
          "text": [
            "80\n"
          ]
        }
      ],
      "source": [
        "sp = a @ b\n",
        "\n",
        "print(sp)"
      ]
    },
    {
      "cell_type": "markdown",
      "metadata": {
        "id": "Oist8E2-NdZv"
      },
      "source": [
        "### Матрицы\n",
        "\n",
        "Разберёмся теперь, как в `numpy` работать с матрицами. Зададим пару матриц:"
      ]
    },
    {
      "cell_type": "code",
      "execution_count": 29,
      "metadata": {
        "id": "4A0ddrGINdZv"
      },
      "outputs": [],
      "source": [
        "A = np.array([[0, 1],\n",
        "              [2, 3],\n",
        "              [4, 5]])\n",
        "\n",
        "B = np.array([[6, 7],\n",
        "              [8, 9],\n",
        "              [10, 11]])"
      ]
    },
    {
      "cell_type": "markdown",
      "metadata": {
        "id": "pLUYDkzCNdZv"
      },
      "source": [
        "Матрицы одинакового размера можно складывать и вычитать. Как и с векторами, это можно делать с помощью операторов `+` и `-`, а также с помощью функций `np.add` и `np.subtract`."
      ]
    },
    {
      "cell_type": "code",
      "execution_count": 30,
      "metadata": {
        "colab": {
          "base_uri": "https://localhost:8080/"
        },
        "id": "73pgVlb1NdZw",
        "outputId": "c9eeeb31-f244-40cf-bca0-52f1fff9406c"
      },
      "outputs": [
        {
          "name": "stdout",
          "output_type": "stream",
          "text": [
            "[[ 6  8]\n",
            " [10 12]\n",
            " [14 16]]\n"
          ]
        }
      ],
      "source": [
        "C = A + B\n",
        "\n",
        "print(C)"
      ]
    },
    {
      "cell_type": "code",
      "execution_count": 31,
      "metadata": {
        "colab": {
          "base_uri": "https://localhost:8080/"
        },
        "id": "M8V3esKcNdZw",
        "outputId": "71421f50-07b0-494a-907b-10b4dc828b1b"
      },
      "outputs": [
        {
          "name": "stdout",
          "output_type": "stream",
          "text": [
            "[[-6 -6]\n",
            " [-6 -6]\n",
            " [-6 -6]]\n"
          ]
        }
      ],
      "source": [
        "D = A - B\n",
        "\n",
        "print(D)"
      ]
    },
    {
      "cell_type": "markdown",
      "metadata": {
        "id": "QhsdJVo3NdZx"
      },
      "source": [
        "Матрицу любого размера можно умножать на скаляр. Делается это так же, как и в случае векторов:"
      ]
    },
    {
      "cell_type": "code",
      "execution_count": 32,
      "metadata": {
        "colab": {
          "base_uri": "https://localhost:8080/"
        },
        "id": "33Hu9-slNdZx",
        "outputId": "b82b770b-174f-4b62-8c68-feb30c6af8b2"
      },
      "outputs": [
        {
          "name": "stdout",
          "output_type": "stream",
          "text": [
            "[[ 0  3]\n",
            " [ 6  9]\n",
            " [12 15]]\n"
          ]
        }
      ],
      "source": [
        "E = A * 3\n",
        "\n",
        "print(E)"
      ]
    },
    {
      "cell_type": "markdown",
      "metadata": {
        "id": "kMDvt2YvNdZy"
      },
      "source": [
        "### Умножение матриц\n",
        "\n",
        "Матрицы $A$ и $B$ можно умножить друг на друга, если _число столбцов_ первой матрицы равняется _числу строк_ второй матрицы. То есть если $A$ - матрица размера $n \\times k$, то матрица $B$ должна иметь размер $k \\times m$ для некоторого $m$.\n",
        "\n",
        "В таком случае результатом умножения будет матрица $C$ размера $n \\times m$ (т.е. у неё будет строк как у первой матрицы, а столбцов - как у второй).\n",
        "\n",
        "Рассмотрим простейший случай: умножение строки (матрицы размера $1 \\times k$) на столбец (матрицу размера $k \\times 1$). Как мы уже выяснили, в результате получится матрица размера $1 \\times 1$, т.е. число. Что это за число?\n",
        "\n",
        "Чтобы посчитать это число, нужно элементы из строки и столбца попарно перемножить (первый с первым, второй со вторым и т.д.), а затем сложить результаты. Это очень похоже на скалярное произведение векторов.\n",
        "\n",
        "Например,\n",
        "\n",
        "$$\n",
        "\\left(\n",
        "\\begin{matrix}\n",
        "    1 & 2 & 3\n",
        "\\end{matrix}\n",
        "\\right)\n",
        "\\cdot\n",
        "\\left(\n",
        "\\begin{matrix}\n",
        "    1 \\\\\n",
        "    0 \\\\\n",
        "    -1\n",
        "\\end{matrix}\n",
        "\\right)\n",
        "= 1 \\cdot 1 + 2 \\cdot 0 + 3 \\cdot (-1)\n",
        "= -2.\n",
        "$$\n",
        "\n",
        "Вернёмся к общему случаю - умножению матрицы размера $n \\times k$ на матрицу размера $k \\times m$. Мы уже поняли, что это будет матрица размера $n \\times m$. Как \"заполнить\" эту матрицу?\n",
        "\n",
        "Чтобы получить число, стоящее в этой матрице на позиции $(i, j)$, нужно умножить $i$-ю строку первой матрицы на $j$-й столбец второй матрицы (так, как мы это делали выше).\n",
        "\n",
        "Например,\n",
        "\n",
        "$$\n",
        "\\left(\n",
        "\\begin{matrix}\n",
        "    1 & 0 & -1 \\\\\n",
        "    3 & 5 & -4\n",
        "\\end{matrix}\n",
        "\\right)\n",
        "\\cdot\n",
        "\\left(\n",
        "\\begin{matrix}\n",
        "    1 & 2 & 3 \\\\\n",
        "    4 & 5 & 6 \\\\\n",
        "    7 & 8 & 9\n",
        "\\end{matrix}\n",
        "\\right)\n",
        "=\n",
        "\\left(\n",
        "\\begin{matrix}\n",
        "    1 \\cdot 1 + 0 \\cdot 4 + (-1) \\cdot 7 & 1 \\cdot 2 + 0 \\cdot 5 + (-1) \\cdot 8 & 1 \\cdot 3 + 0 \\cdot 6 + (-1) \\cdot 9 \\\\\n",
        "    3 \\cdot 1 + 5 \\cdot 4 + (-4) \\cdot 7 & 3 \\cdot 2 + 5 \\cdot 5 + (-4) \\cdot 8 & 3 \\cdot 3 + 5 \\cdot 6 + (-4) \\cdot 9\n",
        "\\end{matrix}\n",
        "\\right)\n",
        "=\n",
        "$$\n",
        "\n",
        "$$\n",
        "=\n",
        "\\left(\n",
        "\\begin{matrix}\n",
        "    -6 & -6 & -6 \\\\\n",
        "    -5 & -1 & 3\n",
        "\\end{matrix}\n",
        "\\right).\n",
        "$$"
      ]
    },
    {
      "cell_type": "markdown",
      "metadata": {
        "id": "1lKUeaUcNdZy"
      },
      "source": [
        "Чтобы выполнять умножение матриц в библиотеке `numpy`, будем пользоваться уже знакомой функцией `np.dot`, либо методом `A.dot`:"
      ]
    },
    {
      "cell_type": "code",
      "execution_count": 33,
      "metadata": {
        "colab": {
          "base_uri": "https://localhost:8080/"
        },
        "id": "Opld8PftNdZz",
        "outputId": "34fc5fe7-5a0b-40d2-f06f-1c1a41394a37"
      },
      "outputs": [
        {
          "name": "stdout",
          "output_type": "stream",
          "text": [
            "[[-6 -6 -6]\n",
            " [-5 -1  3]]\n"
          ]
        }
      ],
      "source": [
        "A = np.array([[1, 0, -1],\n",
        "              [3, 5, -4]])\n",
        "\n",
        "B = np.array([[1, 2, 3],\n",
        "              [4, 5, 6],\n",
        "              [7, 8, 9]])\n",
        "\n",
        "C = A.dot(B)\n",
        "\n",
        "print(C)"
      ]
    },
    {
      "cell_type": "markdown",
      "metadata": {
        "id": "IprsS3ArNdZz"
      },
      "source": [
        "Если перемножаемые матрицы являются квадратными, то результат их умножения будет снова квадратной матрицей, причём, того же размера. Это означает, что квадратную матрицу можно возводить в степень. В `numpy` это можно делать с помощью функции `matrix_power` из модуля `numpy.linalg`:"
      ]
    },
    {
      "cell_type": "code",
      "execution_count": 34,
      "metadata": {
        "colab": {
          "base_uri": "https://localhost:8080/"
        },
        "id": "WZ6oPCngNdZz",
        "outputId": "4d483e25-6e29-45fa-a57e-60f389b5c426"
      },
      "outputs": [
        {
          "name": "stdout",
          "output_type": "stream",
          "text": [
            "[[ 468  576  684]\n",
            " [1062 1305 1548]\n",
            " [1656 2034 2412]]\n"
          ]
        }
      ],
      "source": [
        "D = np.linalg.matrix_power(B, 3)\n",
        "\n",
        "print(D)"
      ]
    },
    {
      "cell_type": "markdown",
      "metadata": {
        "id": "JMQuNJtNNdZ1"
      },
      "source": [
        "### Единичная и транспонированная матрица\n",
        "\n",
        "_Единичной матрицей_ называется квадратная матрица, у которого на главной диагонали стоят $1$, а в остальных местах - $0$. (Под _главной диагональю_ мы понимаем диагональ матрицы, которая начинается в левом верхнем углу и заканчивается в правом нижнем.) Единичную матрицу можно задать с помощью функции `np.eye`:"
      ]
    },
    {
      "cell_type": "code",
      "execution_count": 35,
      "metadata": {
        "colab": {
          "base_uri": "https://localhost:8080/"
        },
        "id": "H8adiy8SNdZ1",
        "outputId": "2bed9789-d853-4658-e37e-3055a6250e19"
      },
      "outputs": [
        {
          "name": "stdout",
          "output_type": "stream",
          "text": [
            "[[1. 0. 0.]\n",
            " [0. 1. 0.]\n",
            " [0. 0. 1.]]\n"
          ]
        }
      ],
      "source": [
        "I = np.eye(3)\n",
        "\n",
        "print(I)"
      ]
    },
    {
      "cell_type": "markdown",
      "metadata": {
        "id": "kchJVzSQNdZ1"
      },
      "source": [
        "При умножении любой матрицы на единичную матрицу подходящего размера, результатом будет та же самая матрица:"
      ]
    },
    {
      "cell_type": "code",
      "execution_count": 36,
      "metadata": {
        "colab": {
          "base_uri": "https://localhost:8080/"
        },
        "id": "Re2XQfeWNdZ2",
        "outputId": "0ef46fea-e9cd-4605-96b6-7b30afe8d78a"
      },
      "outputs": [
        {
          "name": "stdout",
          "output_type": "stream",
          "text": [
            "[[ 1  0 -1]\n",
            " [ 3  5 -4]]\n"
          ]
        }
      ],
      "source": [
        "print(A)"
      ]
    },
    {
      "cell_type": "code",
      "execution_count": 37,
      "metadata": {
        "colab": {
          "base_uri": "https://localhost:8080/"
        },
        "id": "9SXTV4MYNdZ3",
        "outputId": "8713b7cb-4c26-4596-9742-c3b3479119f7"
      },
      "outputs": [
        {
          "name": "stdout",
          "output_type": "stream",
          "text": [
            "[[ 1.  0. -1.]\n",
            " [ 3.  5. -4.]]\n"
          ]
        }
      ],
      "source": [
        "E = A.dot(I)\n",
        "\n",
        "print(E)"
      ]
    },
    {
      "cell_type": "markdown",
      "metadata": {
        "id": "yJsUDkMrNdZ3"
      },
      "source": [
        "Пусть дана матрица $A$. _Транспонированной матрицей_ называется матрица $A^\\top$, полученная \"отражением\" матрицы $A$ относительно её главной диагонали. Другими словами, столбцы матрицы $A$ становятся строками матрицы $A^\\top$, а строки матрицы $A$ - столбцами матрицы $A^\\top$.\n",
        "\n",
        "Вот несколько способов посчитать транспонированную матрицу в `numpy`:\n",
        "\n",
        "* с помощью функции `np.transpose`: `A_t = np.transpose(A)`\n",
        "* с помощью метода `A.transpose`: `A_t = A.transpose()`\n",
        "* с помощью атрибута `A.T`: `A_t = A.T`"
      ]
    },
    {
      "cell_type": "code",
      "execution_count": 38,
      "metadata": {
        "colab": {
          "base_uri": "https://localhost:8080/"
        },
        "id": "8os4lFE0NdZ3",
        "outputId": "103be029-5798-4ba7-933f-df556151ab34"
      },
      "outputs": [
        {
          "name": "stdout",
          "output_type": "stream",
          "text": [
            "[[ 1  3]\n",
            " [ 0  5]\n",
            " [-1 -4]]\n"
          ]
        }
      ],
      "source": [
        "A_t = A.T\n",
        "\n",
        "print(A_t)"
      ]
    },
    {
      "cell_type": "markdown",
      "metadata": {
        "id": "GhozMn0YNdZ4"
      },
      "source": [
        "### Определитель и ранг матрицы\n",
        "\n",
        "Если матрица квадратная, то мы можем посчитать её _определитель_. Определитель матрицы - это число, которое в каком-то смысле \"определяет\" её свойства. Например, обратную матрицу можно посчитать только для матрицы, определитель которой не равен $0$ (по аналогии с тем, что делить можно только на числа, не равные $0$).\n",
        "\n",
        "Посчитать определитель можно с помощью функции `det` из модуля `numpy.linalg`:"
      ]
    },
    {
      "cell_type": "code",
      "execution_count": 39,
      "metadata": {
        "colab": {
          "base_uri": "https://localhost:8080/"
        },
        "id": "pjX2ahXdNdZ4",
        "outputId": "5fa04555-ceb4-4674-d9d7-fee1654e224b"
      },
      "outputs": [
        {
          "name": "stdout",
          "output_type": "stream",
          "text": [
            "0.0\n"
          ]
        }
      ],
      "source": [
        "d = np.linalg.det(B)\n",
        "\n",
        "print(d)"
      ]
    },
    {
      "cell_type": "markdown",
      "metadata": {
        "id": "OOpytuc2NdZ6"
      },
      "source": [
        "Также с помощью функции `matrix_rank` из модуля `numpy.linalg` можно посчитать _ранг_ матрицы. Ранг матрицы - это число линейно независимых строк данной матрицы."
      ]
    },
    {
      "cell_type": "code",
      "execution_count": 40,
      "metadata": {
        "colab": {
          "base_uri": "https://localhost:8080/"
        },
        "id": "51TTqj66NdZ6",
        "outputId": "b2d4c7bc-42f8-4260-ac47-e38aa3561b22"
      },
      "outputs": [
        {
          "name": "stdout",
          "output_type": "stream",
          "text": [
            "2\n"
          ]
        }
      ],
      "source": [
        "r = np.linalg.matrix_rank(B)\n",
        "\n",
        "print(r)"
      ]
    },
    {
      "cell_type": "markdown",
      "metadata": {
        "id": "sd5A-qvtNdZ7"
      },
      "source": [
        "Если матрица квадратная, то её ранг и определитель связаны следующим образом: определитель матрицы отличен от $0$ тогда и только тогда, когда все её строки являются линейно независимыми. Это, в свою очередь, означает, что её ранг равен её размеру.\n",
        "\n",
        "Например, ранг матрицы $B$ из примера выше равен $2$, при этом её размер равен $3$. Это значит, что не все её строки являются линейно независимыми, поэтому её определитель равен $0$.\n",
        "\n",
        "В отличие от определителя, ранг можно считать и для матрицы, которая не является квадратной. Посчитаем ранг матрицы $A$ размера $2 \\times 3$, определённой выше:"
      ]
    },
    {
      "cell_type": "code",
      "execution_count": 41,
      "metadata": {
        "colab": {
          "base_uri": "https://localhost:8080/"
        },
        "id": "aE9rIwi4NdZ7",
        "outputId": "3fcf278e-c0a3-4917-e512-5aacfa5dbcd3"
      },
      "outputs": [
        {
          "name": "stdout",
          "output_type": "stream",
          "text": [
            "2\n"
          ]
        }
      ],
      "source": [
        "r1 = np.linalg.matrix_rank(A)\n",
        "\n",
        "print(r1)"
      ]
    },
    {
      "cell_type": "markdown",
      "metadata": {
        "id": "XHA2XjlZNdZ8"
      },
      "source": [
        "Итак, если определитель квадратной матрицы не равен $0$, то мы можем посчитать для неё _обратную матрицу_. Это матрица, которая при умножении на исходную матрицу даёт единичную матрицу:\n",
        "\n",
        "$$A \\cdot A^{-1} = I$$\n",
        "\n",
        "Обратную матрицу можно посчитать с помощью функции `inv` из модуля `numpy.linalg`:"
      ]
    },
    {
      "cell_type": "code",
      "execution_count": 42,
      "metadata": {
        "colab": {
          "base_uri": "https://localhost:8080/"
        },
        "id": "DK7VvLQ3NdZ8",
        "outputId": "0932cbe4-3aa8-47ca-b64d-b7d1766b15c6"
      },
      "outputs": [
        {
          "name": "stdout",
          "output_type": "stream",
          "text": [
            "85.99999999999989\n"
          ]
        }
      ],
      "source": [
        "F = np.array([[7, 4, 5],\n",
        "              [8, 3, 2],\n",
        "              [6, 10, 12]])\n",
        "\n",
        "print(np.linalg.det(F))"
      ]
    },
    {
      "cell_type": "code",
      "execution_count": 43,
      "metadata": {
        "colab": {
          "base_uri": "https://localhost:8080/"
        },
        "id": "ZJsre49INdZ9",
        "outputId": "3301cc1d-9c1f-435f-e59b-3f4079ae5427"
      },
      "outputs": [
        {
          "name": "stdout",
          "output_type": "stream",
          "text": [
            "[[ 0.18604651  0.02325581 -0.08139535]\n",
            " [-0.97674419  0.62790698  0.30232558]\n",
            " [ 0.72093023 -0.53488372 -0.12790698]]\n"
          ]
        }
      ],
      "source": [
        "F_inv = np.linalg.inv(F)\n",
        "\n",
        "print(F_inv)"
      ]
    },
    {
      "cell_type": "markdown",
      "metadata": {
        "id": "w0DRv0TZNdZ9"
      },
      "source": [
        "Проверим, что условие действительно выполняется:"
      ]
    },
    {
      "cell_type": "code",
      "execution_count": 44,
      "metadata": {
        "colab": {
          "base_uri": "https://localhost:8080/"
        },
        "id": "1J3oyN27NdZ-",
        "outputId": "ce95a06c-d29e-44d9-ef78-f6f8eb2e841f"
      },
      "outputs": [
        {
          "name": "stdout",
          "output_type": "stream",
          "text": [
            "[[ 1.00000000e+00 -5.55111512e-16 -2.77555756e-17]\n",
            " [ 2.22044605e-16  1.00000000e+00  0.00000000e+00]\n",
            " [ 8.88178420e-16 -4.44089210e-16  1.00000000e+00]]\n"
          ]
        }
      ],
      "source": [
        "print(F.dot(F_inv))"
      ]
    },
    {
      "cell_type": "markdown",
      "metadata": {
        "id": "OkefDmRJNdZ_"
      },
      "source": [
        "Если определитель матрицы $A$ равен $d$, то определитель обратной матрицы всегда будет равен $1/d$. Именно поэтому матрицы с определителем, равным $0$, обращать нельзя."
      ]
    },
    {
      "cell_type": "code",
      "execution_count": 45,
      "metadata": {
        "colab": {
          "base_uri": "https://localhost:8080/"
        },
        "id": "X5lx9qi5NdZ_",
        "outputId": "9585b6ea-1f68-444a-fcbb-8918ef8ff39b"
      },
      "outputs": [
        {
          "name": "stdout",
          "output_type": "stream",
          "text": [
            "0.9999999999999991\n"
          ]
        }
      ],
      "source": [
        "F_d = np.linalg.det(F)\n",
        "\n",
        "F_inv_d = np.linalg.det(F_inv)\n",
        "\n",
        "print(F_d * F_inv_d)"
      ]
    },
    {
      "cell_type": "markdown",
      "metadata": {
        "id": "lJ6_SJsVNdZ_"
      },
      "source": [
        "## Генерирование массивов с заданными свойствами\n",
        "\n",
        "Здесь мы рассмотрим способы задавать массивы различных размеров.\n",
        "\n",
        "Функция `np.zeros` позволяет создать массив любой формы, состоящий из нулей:"
      ]
    },
    {
      "cell_type": "code",
      "execution_count": 46,
      "metadata": {
        "colab": {
          "base_uri": "https://localhost:8080/"
        },
        "id": "XY_mG33zNdaA",
        "outputId": "1175b11e-ff2b-4d5c-892a-487ae5d1c492"
      },
      "outputs": [
        {
          "name": "stdout",
          "output_type": "stream",
          "text": [
            "[[0. 0. 0. 0.]\n",
            " [0. 0. 0. 0.]\n",
            " [0. 0. 0. 0.]]\n"
          ]
        }
      ],
      "source": [
        "a = np.zeros((3, 4))\n",
        "\n",
        "print(a)"
      ]
    },
    {
      "cell_type": "markdown",
      "metadata": {
        "id": "LgfbwLUfNdaA"
      },
      "source": [
        "Аналогично, функция `np.ones` вернёт массив заданной формы, состоящий из единиц:"
      ]
    },
    {
      "cell_type": "code",
      "execution_count": 47,
      "metadata": {
        "colab": {
          "base_uri": "https://localhost:8080/"
        },
        "id": "2orEVYgiNdaB",
        "outputId": "5d368d25-602f-4150-9ee4-933bbeae66c5"
      },
      "outputs": [
        {
          "name": "stdout",
          "output_type": "stream",
          "text": [
            "[[1. 1. 1. 1.]\n",
            " [1. 1. 1. 1.]\n",
            " [1. 1. 1. 1.]]\n"
          ]
        }
      ],
      "source": [
        "b = np.ones((3, 4))\n",
        "\n",
        "print(b)"
      ]
    },
    {
      "cell_type": "markdown",
      "metadata": {
        "id": "4mvLi2OrNdaB"
      },
      "source": [
        "Последовательности чисел можно создавать с помощью функции `np.arange`. Вот три способа использовать эту функцию:\n",
        "\n",
        "* Если задать только один аргумент, то вернётся последовательность чисел от $0$ до этого аргумента невключительно:"
      ]
    },
    {
      "cell_type": "code",
      "execution_count": 48,
      "metadata": {
        "colab": {
          "base_uri": "https://localhost:8080/"
        },
        "id": "7T7164Q4NdaB",
        "outputId": "c65d00f7-c505-4a54-9a63-b0382b92e164"
      },
      "outputs": [
        {
          "name": "stdout",
          "output_type": "stream",
          "text": [
            "[0 1 2 3 4 5 6 7 8 9]\n"
          ]
        }
      ],
      "source": [
        "ar1 = np.arange(10)\n",
        "\n",
        "print(ar1)"
      ]
    },
    {
      "cell_type": "markdown",
      "metadata": {
        "id": "pphzIZrJNdaC"
      },
      "source": [
        "* Если подать два аргумента, то вернётся последовательность чисел от первого аргумента до второго (включая первый, не включая второй):"
      ]
    },
    {
      "cell_type": "code",
      "execution_count": 49,
      "metadata": {
        "colab": {
          "base_uri": "https://localhost:8080/"
        },
        "id": "nwB6kQx4NdaC",
        "outputId": "368e17ed-cfe4-4b1e-c698-31ad8b9ae07f"
      },
      "outputs": [
        {
          "name": "stdout",
          "output_type": "stream",
          "text": [
            "[ 2  3  4  5  6  7  8  9 10 11 12]\n"
          ]
        }
      ],
      "source": [
        "ar2 = np.arange(2, 13)\n",
        "\n",
        "print(ar2)"
      ]
    },
    {
      "cell_type": "markdown",
      "metadata": {
        "id": "mrRbT6TTNdaC"
      },
      "source": [
        "* Если подать три аргумента, то третий аргумент будет обозначать шаг, с которым берутся числа в последовательности:"
      ]
    },
    {
      "cell_type": "code",
      "execution_count": 50,
      "metadata": {
        "colab": {
          "base_uri": "https://localhost:8080/"
        },
        "id": "NPazd9C-NdaD",
        "outputId": "a1ffe7a2-15f4-4b04-e9ff-53b29755a3a1"
      },
      "outputs": [
        {
          "name": "stdout",
          "output_type": "stream",
          "text": [
            "[ 2  4  6  8 10 12]\n"
          ]
        }
      ],
      "source": [
        "ar3 = np.arange(2, 13, 2)\n",
        "\n",
        "print(ar3)"
      ]
    },
    {
      "cell_type": "markdown",
      "metadata": {
        "id": "q4YClfQ2NdaD"
      },
      "source": [
        "Отметим, что шаг в функции `np.arange` может быть дробным:"
      ]
    },
    {
      "cell_type": "code",
      "execution_count": 51,
      "metadata": {
        "colab": {
          "base_uri": "https://localhost:8080/"
        },
        "id": "Yvo6mvFvNdaE",
        "outputId": "8e6c3a5e-0e24-4030-ca9f-dc45257b533c"
      },
      "outputs": [
        {
          "name": "stdout",
          "output_type": "stream",
          "text": [
            "[2.  2.1 2.2 2.3 2.4 2.5 2.6 2.7 2.8 2.9]\n"
          ]
        }
      ],
      "source": [
        "ar4 = np.arange(2, 3, 0.1)\n",
        "\n",
        "print(ar4)"
      ]
    },
    {
      "cell_type": "markdown",
      "metadata": {
        "id": "Hnl7NeXBNdaF"
      },
      "source": [
        "Если шаг отрицательный, то последовательность будет возвращена в обратном порядке:"
      ]
    },
    {
      "cell_type": "code",
      "execution_count": 52,
      "metadata": {
        "colab": {
          "base_uri": "https://localhost:8080/"
        },
        "id": "WE7f5CmnNdaF",
        "outputId": "5d86cd16-48c8-49ca-c46f-c599bde53cb0"
      },
      "outputs": [
        {
          "name": "stdout",
          "output_type": "stream",
          "text": [
            "[3.  2.9 2.8 2.7 2.6 2.5 2.4 2.3 2.2 2.1]\n"
          ]
        }
      ],
      "source": [
        "ar5 = np.arange(3, 2, -0.1)\n",
        "\n",
        "print(ar5)"
      ]
    },
    {
      "cell_type": "markdown",
      "metadata": {
        "id": "RGSCcH5hNdaH"
      },
      "source": [
        "Ещё одна полезная функция здесь - это функция `np.linspace`. Она позволяет вернуть заданное количество значений, равномерно расставленных между заданными началом и концом отрезка. Отметим, что здесь и левый, и првый концы отрезка включаются в массив:"
      ]
    },
    {
      "cell_type": "code",
      "execution_count": 53,
      "metadata": {
        "colab": {
          "base_uri": "https://localhost:8080/"
        },
        "id": "PKiGQLnhNdaH",
        "outputId": "2b38a943-0624-4e70-e131-c73d41561c5a"
      },
      "outputs": [
        {
          "name": "stdout",
          "output_type": "stream",
          "text": [
            "[2.         2.11111111 2.22222222 2.33333333 2.44444444 2.55555556\n",
            " 2.66666667 2.77777778 2.88888889 3.        ]\n"
          ]
        }
      ],
      "source": [
        "c = np.linspace(2, 3, 10)\n",
        "\n",
        "print(c)"
      ]
    },
    {
      "cell_type": "markdown",
      "metadata": {
        "id": "S1gMFFWmNdaI"
      },
      "source": [
        "Функция `np.logspace` имеет похожий эффект, отличие лишь в том, что в качестве начала и конца отрезка мы подаём не сами числа, а степени числа $10$. Например, в ячейке ниже мы задаём массив, содержащий $4$ значения, расставленных равномерно в пределах от $10^0 = 1$ до $10^3 = 1000$."
      ]
    },
    {
      "cell_type": "code",
      "execution_count": 54,
      "metadata": {
        "colab": {
          "base_uri": "https://localhost:8080/"
        },
        "id": "kogDWfxANdaI",
        "outputId": "bed91c2a-e888-41c8-eea3-2def44b2f17b"
      },
      "outputs": [
        {
          "name": "stdout",
          "output_type": "stream",
          "text": [
            "[   1.   10.  100. 1000.]\n"
          ]
        }
      ],
      "source": [
        "d = np.logspace(0, 3, 4)\n",
        "\n",
        "print(d)"
      ]
    },
    {
      "cell_type": "markdown",
      "metadata": {
        "id": "cvP6Ak7vNdaJ"
      },
      "source": [
        "### Массивы случайных значений"
      ]
    },
    {
      "cell_type": "markdown",
      "metadata": {
        "id": "EDsTdpoENdaJ"
      },
      "source": [
        "Функция `sample` из модуля `numpy.random` возвращает массив заданной формы, состоящий из чисел, взятых из равномерного распределения на отрезке $[0, 1)$."
      ]
    },
    {
      "cell_type": "code",
      "execution_count": 55,
      "metadata": {
        "colab": {
          "base_uri": "https://localhost:8080/"
        },
        "id": "W1_ld1SDNdaJ",
        "outputId": "8a4542c4-21ad-461d-d353-7fddd1c15fa5"
      },
      "outputs": [
        {
          "name": "stdout",
          "output_type": "stream",
          "text": [
            "[[0.39062635 0.18650084 0.97008797 0.18416655]\n",
            " [0.27078027 0.99137732 0.88482635 0.77247117]\n",
            " [0.83039691 0.83959932 0.5550307  0.91541897]]\n"
          ]
        }
      ],
      "source": [
        "a = np.random.sample((3, 4))\n",
        "\n",
        "print(a)"
      ]
    },
    {
      "cell_type": "markdown",
      "metadata": {
        "id": "kqSzYu7NNdaK"
      },
      "source": [
        "Отметим, что в эту и другие представленные ниже функции можно подавать также не кортеж, а какое-то одно целое число. В этом случае вернётся одномерный массив заданного размера. Также в эти функции можно не подавать аргументы вовсе - в этом случае вернётся лишь одно число."
      ]
    },
    {
      "cell_type": "code",
      "execution_count": 56,
      "metadata": {
        "colab": {
          "base_uri": "https://localhost:8080/"
        },
        "id": "WeyHsyr5NdaK",
        "outputId": "1228d864-4302-40e2-a9ce-c33889e76839"
      },
      "outputs": [
        {
          "name": "stdout",
          "output_type": "stream",
          "text": [
            "Одно значение: 0.5794952821411319\n",
            "Три значения: [0.86994137 0.23658888 0.37563324]\n"
          ]
        }
      ],
      "source": [
        "print(\"Одно значение: {}\".format(np.random.sample()))\n",
        "\n",
        "print(\"Три значения: {}\".format(np.random.sample(3)))"
      ]
    },
    {
      "cell_type": "markdown",
      "metadata": {
        "id": "EzyvOkdeNdaL"
      },
      "source": [
        "Функция `randn` из модуля `numpy.random` возвращает аналогичный массив, но уже взятый из нормального распределения (со средним $0$ и среднеквадратическим отклонением $1$):"
      ]
    },
    {
      "cell_type": "code",
      "execution_count": 57,
      "metadata": {
        "colab": {
          "base_uri": "https://localhost:8080/"
        },
        "id": "dpOkmHEjNdaL",
        "outputId": "0b021fda-fa63-41c2-afad-f6c03d6bbbd5"
      },
      "outputs": [
        {
          "name": "stdout",
          "output_type": "stream",
          "text": [
            "[[ 0.99083478  0.34060761 -0.12953736 -1.17194164]\n",
            " [-0.92706059  0.06574799  0.0886184   0.72640999]\n",
            " [ 1.10305456  0.01001899  1.13006669 -1.00234779]]\n"
          ]
        }
      ],
      "source": [
        "b = np.random.randn(3, 4)\n",
        "\n",
        "print(b)"
      ]
    },
    {
      "cell_type": "markdown",
      "metadata": {
        "id": "AP_WhcI9NdaL"
      },
      "source": [
        "Обратите внимание, что эта функция получает на вход не кортеж `tuple`, а просто последовательность размеров по каждому измерению.\n",
        "\n",
        "Функция `randint` возвращает массив из целых чисел в указанном диапазоне:"
      ]
    },
    {
      "cell_type": "code",
      "execution_count": 58,
      "metadata": {
        "colab": {
          "base_uri": "https://localhost:8080/"
        },
        "id": "cxbgB9CLNdaL",
        "outputId": "f10d1aa5-8f13-49cd-9f4a-132584d6c81a"
      },
      "outputs": [
        {
          "name": "stdout",
          "output_type": "stream",
          "text": [
            "[[40 17 82 57]\n",
            " [40 92 90 49]\n",
            " [81  7 95 13]]\n"
          ]
        }
      ],
      "source": [
        "c = np.random.randint(0, 100, (3, 4))\n",
        "\n",
        "print(c)"
      ]
    },
    {
      "cell_type": "markdown",
      "metadata": {
        "id": "YPfpEL_hNdaM"
      },
      "source": [
        "Функция `choice` возвращает случайно выбранные элементы из заранее заданного массива:"
      ]
    },
    {
      "cell_type": "code",
      "execution_count": 59,
      "metadata": {
        "colab": {
          "base_uri": "https://localhost:8080/"
        },
        "id": "_gpyzsXWNdaN",
        "outputId": "1da8a039-d786-44c7-f7df-c6ea16260c7f"
      },
      "outputs": [
        {
          "name": "stdout",
          "output_type": "stream",
          "text": [
            "[[-10  -5  -5  -3]\n",
            " [ -2  -8  -3  -4]\n",
            " [ -8  -8  -2  -3]]\n"
          ]
        }
      ],
      "source": [
        "A = np.arange(-10, 0)\n",
        "\n",
        "d = np.random.choice(A, (3, 4))\n",
        "\n",
        "print(d)"
      ]
    },
    {
      "cell_type": "markdown",
      "metadata": {
        "id": "d7kSsh9DNdaN"
      },
      "source": [
        "### Изменение размеров массива\n",
        "\n",
        "Библиотека `numpy` предоставляет функционал для удобного изменения размера массивов.\n",
        "\n",
        "Например, рассмотрим одномерный массив с $12$ элементами:"
      ]
    },
    {
      "cell_type": "code",
      "execution_count": 64,
      "metadata": {
        "colab": {
          "base_uri": "https://localhost:8080/"
        },
        "id": "hCZ1-HO5NdaN",
        "outputId": "b6561258-d307-4ce8-e171-00dab231d2be"
      },
      "outputs": [
        {
          "name": "stdout",
          "output_type": "stream",
          "text": [
            "[ 0  1  2  3  4  5  6  7  8  9 10 11]\n"
          ]
        }
      ],
      "source": [
        "ar = np.arange(12)\n",
        "\n",
        "print(ar)"
      ]
    },
    {
      "cell_type": "markdown",
      "metadata": {
        "id": "cqbz_kGHNdaO"
      },
      "source": [
        "Если нам нужно расположить эти значения в двумерном массиве, мы можем сделать это с помощью функции `np.reshape` или метода `ar.reshape`:"
      ]
    },
    {
      "cell_type": "code",
      "execution_count": 65,
      "metadata": {
        "colab": {
          "base_uri": "https://localhost:8080/"
        },
        "id": "KFpG7HJpNdaO",
        "outputId": "bcdaedcb-f4d8-44d7-bb56-c43e0a58df90"
      },
      "outputs": [
        {
          "name": "stdout",
          "output_type": "stream",
          "text": [
            "[[ 0  1  2  3]\n",
            " [ 4  5  6  7]\n",
            " [ 8  9 10 11]]\n"
          ]
        }
      ],
      "source": [
        "a = ar.reshape(3, 4)\n",
        "\n",
        "print(a)"
      ]
    },
    {
      "cell_type": "markdown",
      "metadata": {
        "id": "Mt8X_K5rNdaO"
      },
      "source": [
        "Ясно, что при этом число элементов получаемого массива должно совпадать с числом элементов в оригинальном массиве. Например, следующая попытка посчитать функцию закончится ошибкой:"
      ]
    },
    {
      "cell_type": "code",
      "execution_count": 66,
      "metadata": {
        "colab": {
          "base_uri": "https://localhost:8080/",
          "height": 181
        },
        "id": "DQAXUb9BNdaP",
        "outputId": "52731ad5-fb17-4c52-961f-6068b008e950"
      },
      "outputs": [
        {
          "ename": "ValueError",
          "evalue": "ignored",
          "output_type": "error",
          "traceback": [
            "\u001b[0;31m---------------------------------------------------------------------------\u001b[0m",
            "\u001b[0;31mValueError\u001b[0m                                Traceback (most recent call last)",
            "\u001b[0;32m<ipython-input-66-cebfd21ad444>\u001b[0m in \u001b[0;36m<cell line: 1>\u001b[0;34m()\u001b[0m\n\u001b[0;32m----> 1\u001b[0;31m \u001b[0mb\u001b[0m \u001b[0;34m=\u001b[0m \u001b[0mar\u001b[0m\u001b[0;34m.\u001b[0m\u001b[0mreshape\u001b[0m\u001b[0;34m(\u001b[0m\u001b[0;36m3\u001b[0m\u001b[0;34m,\u001b[0m \u001b[0;36m5\u001b[0m\u001b[0;34m)\u001b[0m\u001b[0;34m\u001b[0m\u001b[0;34m\u001b[0m\u001b[0m\n\u001b[0m",
            "\u001b[0;31mValueError\u001b[0m: cannot reshape array of size 12 into shape (3,5)"
          ]
        }
      ],
      "source": [
        "b = ar.reshape(3, 5)"
      ]
    },
    {
      "cell_type": "markdown",
      "metadata": {
        "id": "n645LcA0NdaP"
      },
      "source": [
        "Если мы знаем количество строк, которое хотим получить, но не знаем количество столбцов, в качестве второго аргумента можно передать число $-1$. Если наоборот мы знаем лишь количество столбцов, можно передать $-1$ в качестве первого аргумента."
      ]
    },
    {
      "cell_type": "code",
      "execution_count": 67,
      "metadata": {
        "colab": {
          "base_uri": "https://localhost:8080/"
        },
        "id": "DsDKMVo0NdaP",
        "outputId": "09057d64-82f8-4054-da83-68425cb0003b"
      },
      "outputs": [
        {
          "name": "stdout",
          "output_type": "stream",
          "text": [
            "[[ 0  1  2  3]\n",
            " [ 4  5  6  7]\n",
            " [ 8  9 10 11]]\n"
          ]
        }
      ],
      "source": [
        "b = ar.reshape(3, -1)\n",
        "\n",
        "print(b)"
      ]
    },
    {
      "cell_type": "markdown",
      "metadata": {
        "id": "ycBDw5QVNdaQ"
      },
      "source": [
        "Метод `ar.reshape` не меняет сам массив `ar`, он лишь возвращает новый. Есть также метод `ar.resize`, который делает то же самое, что и `ar.reshape`, но не возвращает ничего и меняет исходный массив:"
      ]
    },
    {
      "cell_type": "code",
      "execution_count": 68,
      "metadata": {
        "colab": {
          "base_uri": "https://localhost:8080/"
        },
        "id": "hB_EF-LzNdaQ",
        "outputId": "68199e96-0e5c-42b0-d00d-703aca2cb97d"
      },
      "outputs": [
        {
          "name": "stdout",
          "output_type": "stream",
          "text": [
            "[[ 0  1  2  3]\n",
            " [ 4  5  6  7]\n",
            " [ 8  9 10 11]]\n"
          ]
        }
      ],
      "source": [
        "ar.resize(3, 4)\n",
        "\n",
        "print(ar)"
      ]
    },
    {
      "cell_type": "markdown",
      "metadata": {
        "id": "YX8Ndze4NdaQ"
      },
      "source": [
        "Обратно, чтобы получить из многомерного массива одномерный, можно воспользоваться методом `ar.flatten`:"
      ]
    },
    {
      "cell_type": "code",
      "execution_count": 69,
      "metadata": {
        "colab": {
          "base_uri": "https://localhost:8080/"
        },
        "id": "kkUpYuQFNdaR",
        "outputId": "8c40deeb-740c-460d-f219-32b82ae631b5"
      },
      "outputs": [
        {
          "name": "stdout",
          "output_type": "stream",
          "text": [
            "[ 0  1  2  3  4  5  6  7  8  9 10 11]\n"
          ]
        }
      ],
      "source": [
        "c = ar.flatten()\n",
        "\n",
        "print(c)"
      ]
    },
    {
      "cell_type": "markdown",
      "metadata": {
        "id": "WTZs7nZANdaR"
      },
      "source": [
        "### Соединение массивов\n",
        "\n",
        "Рассмотрим два массива и разберёмся с тем, как их можно соединить в один."
      ]
    },
    {
      "cell_type": "code",
      "execution_count": 70,
      "metadata": {
        "id": "2O2Yo9seNdaR"
      },
      "outputs": [],
      "source": [
        "a = np.zeros((2, 3))\n",
        "\n",
        "b = np.ones((2, 3))"
      ]
    },
    {
      "cell_type": "markdown",
      "metadata": {
        "id": "G4PkLh-5NdaS"
      },
      "source": [
        "Мы можем соединить эти массивы вертикально (т.е. дописать один под другим). Вот несколько способов это сделать:\n",
        "\n",
        "* с помощью функции `np.vstack`: `c = np.vstack((a, b))` (получает на вход кортеж из массивов)\n",
        "* с помощью функции `np.concatenate`: `c = np.concatenate((a, b), axis=0)` (тоже получает на вход кортеж, также нужно указать, вдоль какой оси производится конкатенация)"
      ]
    },
    {
      "cell_type": "code",
      "execution_count": 71,
      "metadata": {
        "colab": {
          "base_uri": "https://localhost:8080/"
        },
        "id": "2WC5QfbPNdaS",
        "outputId": "7be133b4-cc50-498d-9350-32fb89e185cf"
      },
      "outputs": [
        {
          "name": "stdout",
          "output_type": "stream",
          "text": [
            "[[0. 0. 0.]\n",
            " [0. 0. 0.]\n",
            " [1. 1. 1.]\n",
            " [1. 1. 1.]]\n"
          ]
        }
      ],
      "source": [
        "c = np.vstack((a, b))\n",
        "\n",
        "print(c)"
      ]
    },
    {
      "cell_type": "markdown",
      "metadata": {
        "id": "V-5QZDseNdaS"
      },
      "source": [
        "Также несколько способов это соединить массивы горизонтально (т.е. дописать один правее другого):\n",
        "\n",
        "* с помощью функции `np.hstack`: `c = np.hstack((a, b))`\n",
        "* с помощью функции `np.concatenate`: `c = np.concatenate((a, b), axis=1)` (производится теперь вдоль оси $1$)"
      ]
    },
    {
      "cell_type": "code",
      "execution_count": 72,
      "metadata": {
        "colab": {
          "base_uri": "https://localhost:8080/"
        },
        "id": "YTloosAwNdaS",
        "outputId": "431eb1e1-ea99-4977-ace0-4ef2ee870f10"
      },
      "outputs": [
        {
          "name": "stdout",
          "output_type": "stream",
          "text": [
            "[[0. 0. 0. 1. 1. 1.]\n",
            " [0. 0. 0. 1. 1. 1.]]\n"
          ]
        }
      ],
      "source": [
        "d = np.concatenate((a, b), axis=1)\n",
        "\n",
        "print(d)"
      ]
    },
    {
      "cell_type": "markdown",
      "metadata": {
        "id": "1tZBBLEXNdaS"
      },
      "source": [
        "Наконец, два двумерных массива можно соединить _в глубину_ (т.е. вдоль новой третьей оси) с помощью функции `np.dstack`:"
      ]
    },
    {
      "cell_type": "code",
      "execution_count": 73,
      "metadata": {
        "colab": {
          "base_uri": "https://localhost:8080/"
        },
        "id": "Pepqx6-1NdaT",
        "outputId": "1442729b-6153-45dc-ffd0-2b9e3f4601b3"
      },
      "outputs": [
        {
          "name": "stdout",
          "output_type": "stream",
          "text": [
            "[[[0. 1.]\n",
            "  [0. 1.]\n",
            "  [0. 1.]]\n",
            "\n",
            " [[0. 1.]\n",
            "  [0. 1.]\n",
            "  [0. 1.]]]\n"
          ]
        }
      ],
      "source": [
        "e = np.dstack((a, b))\n",
        "\n",
        "print(e)"
      ]
    },
    {
      "cell_type": "markdown",
      "metadata": {
        "id": "DPiPYM_TNdaT"
      },
      "source": [
        "## Функции для работы с данными\n",
        "\n",
        "Библиотека `numpy` предлагает удобный функционал для выбора данных из массива. Рассмотрим массив из $10$ случайных целых значений от $0$ до $19$:"
      ]
    },
    {
      "cell_type": "code",
      "execution_count": 74,
      "metadata": {
        "colab": {
          "base_uri": "https://localhost:8080/"
        },
        "id": "rbeVwwyjNdaW",
        "outputId": "39e07c14-a952-499e-d6d0-a5159e82b9e5"
      },
      "outputs": [
        {
          "name": "stdout",
          "output_type": "stream",
          "text": [
            "[10 11 16 16 10 17  6 10 16 19]\n"
          ]
        }
      ],
      "source": [
        "a = np.random.randint(0, 20, 10)\n",
        "\n",
        "print(a)"
      ]
    },
    {
      "cell_type": "markdown",
      "metadata": {
        "id": "-R7yms0WNdaW"
      },
      "source": [
        "Допустим, мы хотим выбрать все значения этого массива, которые больше $10$. Вот как это можно сделать:"
      ]
    },
    {
      "cell_type": "code",
      "execution_count": 75,
      "metadata": {
        "colab": {
          "base_uri": "https://localhost:8080/"
        },
        "id": "8pTsCjDRNdaX",
        "outputId": "0a6d571f-bd8c-4ab7-ef3a-9e883204f9ee"
      },
      "outputs": [
        {
          "name": "stdout",
          "output_type": "stream",
          "text": [
            "[11 16 16 17 16 19]\n"
          ]
        }
      ],
      "source": [
        "b = a[a > 10]\n",
        "\n",
        "print(b)"
      ]
    },
    {
      "cell_type": "markdown",
      "metadata": {
        "id": "UCyM03wSNdaX"
      },
      "source": [
        "Свойства можно комбинировать, используя логические операторы \"и\" (обозначается символом $\\&$), \"или\" (символ $\\mid$) и оператор отрицания \"не\" (символ $\\sim$). При этом каждое условие необходимо поставить в круглые скобки:"
      ]
    },
    {
      "cell_type": "code",
      "execution_count": 76,
      "metadata": {
        "colab": {
          "base_uri": "https://localhost:8080/"
        },
        "id": "FP0x9WMLNdaX",
        "outputId": "04f821b3-c8b2-4c68-eacc-a20dd6b02507"
      },
      "outputs": [
        {
          "name": "stdout",
          "output_type": "stream",
          "text": [
            "[10 16 16 10  6 10 16]\n"
          ]
        }
      ],
      "source": [
        "c = a[(a > 0) & (a % 2 == 0)]\n",
        "\n",
        "print(c)"
      ]
    },
    {
      "cell_type": "markdown",
      "metadata": {
        "id": "Gf7N6-AqNdaY"
      },
      "source": [
        "Такая конструкция в `numpy` называется _булевой индексацией_. Разберёмся с ней поподробнее. Что из себя представляет объект `a > 0`?"
      ]
    },
    {
      "cell_type": "code",
      "execution_count": 77,
      "metadata": {
        "colab": {
          "base_uri": "https://localhost:8080/"
        },
        "id": "1YzamM5UNdaY",
        "outputId": "aee7e21d-8e0e-4029-d6ed-f825830dd1ab"
      },
      "outputs": [
        {
          "name": "stdout",
          "output_type": "stream",
          "text": [
            "[False  True  True  True False  True False False  True  True]\n"
          ]
        }
      ],
      "source": [
        "print(a > 10)"
      ]
    },
    {
      "cell_type": "markdown",
      "metadata": {
        "id": "neAobOpiNdaZ"
      },
      "source": [
        "Как мы видим, это просто `numpy`-массив из булевых значений `True` и `False`. Когда мы подставляем такой массив в качестве _индекса_ массива `a`, нам возвращаются все элементы, на позиции которых в этом массиве стоит значение `True`.\n",
        "\n",
        "Можно просто создать такой массив вручную и передать его в качестве индекса:"
      ]
    },
    {
      "cell_type": "code",
      "execution_count": 78,
      "metadata": {
        "colab": {
          "base_uri": "https://localhost:8080/"
        },
        "id": "f2_x2r4nNdaa",
        "outputId": "53ef9da4-7793-4561-edf5-f86272b67464"
      },
      "outputs": [
        {
          "name": "stdout",
          "output_type": "stream",
          "text": [
            "[10 16 16 10 16]\n"
          ]
        }
      ],
      "source": [
        "ind = np.array([True, False, True, True, False, False, False, True, True, False])\n",
        "\n",
        "print(a[ind])"
      ]
    },
    {
      "cell_type": "markdown",
      "metadata": {
        "id": "1xsImF0QNdab"
      },
      "source": [
        "Другой способ выбрать значения из массива - с помощью функции `np.where`. Она берёт массив из булевых значений и возвращает _индексы_ истинных значений:"
      ]
    },
    {
      "cell_type": "code",
      "execution_count": 79,
      "metadata": {
        "colab": {
          "base_uri": "https://localhost:8080/"
        },
        "id": "ilR8Tv1ZNdab",
        "outputId": "f1303720-6661-456d-940b-62e7ed95c3fb"
      },
      "outputs": [
        {
          "name": "stdout",
          "output_type": "stream",
          "text": [
            "(array([1, 2, 3, 5, 8, 9]),)\n"
          ]
        }
      ],
      "source": [
        "ind1 = np.where(a > 10)\n",
        "\n",
        "print(ind1)"
      ]
    },
    {
      "cell_type": "markdown",
      "metadata": {
        "id": "_Z-zYCcDNdao"
      },
      "source": [
        "Такой список индексов можно также передать в массив `a` чтобы получить конкретные значения:"
      ]
    },
    {
      "cell_type": "code",
      "execution_count": 80,
      "metadata": {
        "colab": {
          "base_uri": "https://localhost:8080/"
        },
        "id": "nqBbPvtCNdao",
        "outputId": "2a6bb547-733c-4c72-e840-2a6207104819"
      },
      "outputs": [
        {
          "name": "stdout",
          "output_type": "stream",
          "text": [
            "[11 16 16 17 16 19]\n"
          ]
        }
      ],
      "source": [
        "d = a[ind1]\n",
        "\n",
        "print(d)"
      ]
    },
    {
      "cell_type": "markdown",
      "metadata": {
        "id": "No3c2PegNdap"
      },
      "source": [
        "То же самое можно сделать и вручную: передать в квадратные скобки массива `a` какой-нибудь список из индексов:"
      ]
    },
    {
      "cell_type": "code",
      "execution_count": 81,
      "metadata": {
        "colab": {
          "base_uri": "https://localhost:8080/"
        },
        "id": "5rN3m42LNdap",
        "outputId": "a91cca80-8a7b-488d-81ae-1967c84d1767"
      },
      "outputs": [
        {
          "name": "stdout",
          "output_type": "stream",
          "text": [
            "[10 10 10]\n"
          ]
        }
      ],
      "source": [
        "e = a[[0, 4, 7]]\n",
        "\n",
        "print(e)"
      ]
    },
    {
      "cell_type": "markdown",
      "metadata": {
        "id": "wIOX0cgBNdap"
      },
      "source": [
        "Отметим также, что если массив `a` является многомерным, то чтобы выбрать таким образом из него значения, нужно указать внутри квадратных скобок через запятую столько списков, сколько имеется у массива измерений:"
      ]
    },
    {
      "cell_type": "code",
      "execution_count": 82,
      "metadata": {
        "colab": {
          "base_uri": "https://localhost:8080/"
        },
        "id": "CoHM7hciNdaq",
        "outputId": "ae1896b7-c4cc-4e48-baf9-e5206bf38096"
      },
      "outputs": [
        {
          "name": "stdout",
          "output_type": "stream",
          "text": [
            "[[10 11]\n",
            " [16 16]\n",
            " [10 17]\n",
            " [ 6 10]\n",
            " [16 19]]\n"
          ]
        }
      ],
      "source": [
        "a.resize((5, 2))\n",
        "\n",
        "print(a)"
      ]
    },
    {
      "cell_type": "code",
      "execution_count": 83,
      "metadata": {
        "colab": {
          "base_uri": "https://localhost:8080/"
        },
        "id": "2LMXxFkNNdaq",
        "outputId": "f407e51e-68a5-4364-f28c-911b21b20361"
      },
      "outputs": [
        {
          "name": "stdout",
          "output_type": "stream",
          "text": [
            "[[16 16]\n",
            " [16 19]]\n"
          ]
        }
      ],
      "source": [
        "f = a[[1, 4], :]\n",
        "\n",
        "print(f)"
      ]
    },
    {
      "cell_type": "markdown",
      "metadata": {
        "id": "SkOw7SLwNdaq"
      },
      "source": [
        "### Сортировка\n",
        "\n",
        "Рассмотрим двумерный массив:"
      ]
    },
    {
      "cell_type": "code",
      "execution_count": 84,
      "metadata": {
        "colab": {
          "base_uri": "https://localhost:8080/"
        },
        "id": "Uoy9lKHNNdaq",
        "outputId": "9a48ae62-b230-4f81-866a-66399c3ed37c"
      },
      "outputs": [
        {
          "name": "stdout",
          "output_type": "stream",
          "text": [
            "[[3 5 0 5]\n",
            " [3 5 1 4]\n",
            " [2 0 2 3]]\n"
          ]
        }
      ],
      "source": [
        "a = np.random.randint(0, 6, (3, 4))\n",
        "\n",
        "print(a)"
      ]
    },
    {
      "cell_type": "markdown",
      "metadata": {
        "id": "L2F6zoCvNdar"
      },
      "source": [
        "Допустим, мы хотим отсортировать строки этого массива по второму столбцу. Мы можем сделать это вручную, задав индексы строк в нужном нам порядке:"
      ]
    },
    {
      "cell_type": "code",
      "execution_count": 85,
      "metadata": {
        "colab": {
          "base_uri": "https://localhost:8080/"
        },
        "id": "F8sTBk1uNdar",
        "outputId": "cc600a37-2e13-4517-b12d-88862bc4b633"
      },
      "outputs": [
        {
          "name": "stdout",
          "output_type": "stream",
          "text": [
            "[[3 5 1 4]\n",
            " [2 0 2 3]\n",
            " [3 5 0 5]]\n"
          ]
        }
      ],
      "source": [
        "b = a[[1, 2, 0], :]\n",
        "\n",
        "print(b)"
      ]
    },
    {
      "cell_type": "markdown",
      "metadata": {
        "id": "8GFYwkmLNdas"
      },
      "source": [
        "Этот процесс можно автоматизировать с помощью метода `a.argsort`. Данный метод возвращает массив из индексов массива `a` в порядке их возрастания по заданной оси:"
      ]
    },
    {
      "cell_type": "code",
      "execution_count": 86,
      "metadata": {
        "colab": {
          "base_uri": "https://localhost:8080/"
        },
        "id": "OMHJDAbuNdas",
        "outputId": "7f24a2f7-7e99-4d14-8f7a-a53f5c24dd04"
      },
      "outputs": [
        {
          "name": "stdout",
          "output_type": "stream",
          "text": [
            "[[2 2 0 2]\n",
            " [0 0 1 1]\n",
            " [1 1 2 0]]\n"
          ]
        }
      ],
      "source": [
        "ind = a.argsort(axis=0)\n",
        "\n",
        "print(ind)"
      ]
    },
    {
      "cell_type": "markdown",
      "metadata": {
        "id": "x_7Rt_SDNdat"
      },
      "source": [
        "В каждом столбце этого массива стоят индексы строк массива `a`, расположенные в том порядке, в котором они бы отсортировали данный столбец по возрастанию. Автоматизируем процесс сортировки массива `a` по второму столбцу. Для этого нужно получить второй столбец из массива, полученного с помощью метода `a.argsort`:"
      ]
    },
    {
      "cell_type": "code",
      "execution_count": 87,
      "metadata": {
        "colab": {
          "base_uri": "https://localhost:8080/"
        },
        "id": "uztoLElcNdat",
        "outputId": "5db9628e-671d-44f8-a27f-29f30b99ac94"
      },
      "outputs": [
        {
          "name": "stdout",
          "output_type": "stream",
          "text": [
            "[2 0 1]\n"
          ]
        }
      ],
      "source": [
        "ind1 = a[:, 1].argsort()\n",
        "\n",
        "print(ind1)"
      ]
    },
    {
      "cell_type": "markdown",
      "metadata": {
        "id": "tMlzrD5vNdat"
      },
      "source": [
        "Итоговая конструкция будет выглядеть так:"
      ]
    },
    {
      "cell_type": "code",
      "execution_count": 88,
      "metadata": {
        "colab": {
          "base_uri": "https://localhost:8080/"
        },
        "id": "nqRoIJMbNdau",
        "outputId": "35c61e63-d9b6-450a-8a14-7ff713e20a46"
      },
      "outputs": [
        {
          "name": "stdout",
          "output_type": "stream",
          "text": [
            "[[2 0 2 3]\n",
            " [3 5 0 5]\n",
            " [3 5 1 4]]\n"
          ]
        }
      ],
      "source": [
        "c = a[a[:, 1].argsort(), :]\n",
        "\n",
        "print(c)"
      ]
    },
    {
      "cell_type": "markdown",
      "metadata": {
        "id": "oPUtfGeYNdav"
      },
      "source": [
        "### Перемешивание\n",
        "\n",
        "Иногда оказывается нужно перемешать значения массива. Это можно сделать с помощью функции `shuffle` из модуля `numpy.random`. Эта функция ничего не возвращает, лишь перемешивает случайным образом элементы данного массива. Отметим, что она перемешивает массив только в первом измерении. Другими словами, если массив двумерный, она лишь переставит его строки местами. Содержимое самих строк при этом не изменится:"
      ]
    },
    {
      "cell_type": "code",
      "execution_count": 89,
      "metadata": {
        "colab": {
          "base_uri": "https://localhost:8080/"
        },
        "id": "oGCN-dyfNdav",
        "outputId": "e3e20915-d4d4-4f75-b2cf-6d4a014ec330"
      },
      "outputs": [
        {
          "name": "stdout",
          "output_type": "stream",
          "text": [
            "[[2 0 2 3]\n",
            " [3 5 1 4]\n",
            " [3 5 0 5]]\n"
          ]
        }
      ],
      "source": [
        "np.random.shuffle(c)\n",
        "\n",
        "print(c)"
      ]
    },
    {
      "cell_type": "markdown",
      "metadata": {
        "id": "T1bRZqfNNdav"
      },
      "source": [
        "### Математические операции над массивами\n",
        "\n",
        "Некоторые математические операции можно выполнять с массивами целиком. Например, мы уже знаем, что массивы можно умножать на число и что массивы одинаковой формы можно складывать."
      ]
    },
    {
      "cell_type": "code",
      "execution_count": 90,
      "metadata": {
        "colab": {
          "base_uri": "https://localhost:8080/"
        },
        "id": "k9yLfjChNdav",
        "outputId": "e16487d9-abfa-4de7-f7ca-af3013a93af0"
      },
      "outputs": [
        {
          "name": "stdout",
          "output_type": "stream",
          "text": [
            "[[0 1 2]\n",
            " [3 4 5]]\n",
            "[[ 6  7  8]\n",
            " [ 9 10 11]]\n"
          ]
        }
      ],
      "source": [
        "a = np.arange(0, 6).reshape(2, 3)\n",
        "b = np.arange(6, 12).reshape(2, 3)\n",
        "\n",
        "print(a)\n",
        "print(b)"
      ]
    },
    {
      "cell_type": "code",
      "execution_count": 91,
      "metadata": {
        "colab": {
          "base_uri": "https://localhost:8080/"
        },
        "id": "rGp8lAdKNdaw",
        "outputId": "e7628ef2-92b3-418a-c0d7-bc3ffaee05b7"
      },
      "outputs": [
        {
          "name": "stdout",
          "output_type": "stream",
          "text": [
            "[[ 6  8 10]\n",
            " [12 14 16]]\n"
          ]
        }
      ],
      "source": [
        "print(a + b)"
      ]
    },
    {
      "cell_type": "code",
      "execution_count": 92,
      "metadata": {
        "colab": {
          "base_uri": "https://localhost:8080/"
        },
        "id": "Ycxs_eN1Ndaw",
        "outputId": "ac637ff1-7f17-49d6-bab3-b98bcf93e54c"
      },
      "outputs": [
        {
          "name": "stdout",
          "output_type": "stream",
          "text": [
            "[[ 0  2  4]\n",
            " [ 6  8 10]]\n"
          ]
        }
      ],
      "source": [
        "print(a * 2)"
      ]
    },
    {
      "cell_type": "markdown",
      "metadata": {
        "id": "Di4uCd4XNdax"
      },
      "source": [
        "К массивам можно также прибавлять числа - в этом случае к каждому элементу массива прибавляется число:"
      ]
    },
    {
      "cell_type": "code",
      "execution_count": 93,
      "metadata": {
        "colab": {
          "base_uri": "https://localhost:8080/"
        },
        "id": "gorRI_PSNday",
        "outputId": "0b260982-b658-4e5e-8090-1b78b96a80a6"
      },
      "outputs": [
        {
          "name": "stdout",
          "output_type": "stream",
          "text": [
            "[[1 2 3]\n",
            " [4 5 6]]\n"
          ]
        }
      ],
      "source": [
        "print(a + 1)"
      ]
    },
    {
      "cell_type": "markdown",
      "metadata": {
        "id": "1Ihge2LbNday"
      },
      "source": [
        "Массивы одинакового размера можно поэлементно умножать. (Важно не путать с матричным умножением.)"
      ]
    },
    {
      "cell_type": "code",
      "execution_count": 94,
      "metadata": {
        "colab": {
          "base_uri": "https://localhost:8080/"
        },
        "id": "rmaCek-jNday",
        "outputId": "7969a4b7-2467-45dd-c8f0-bc6d4c25273c"
      },
      "outputs": [
        {
          "name": "stdout",
          "output_type": "stream",
          "text": [
            "[[ 0  7 16]\n",
            " [27 40 55]]\n"
          ]
        }
      ],
      "source": [
        "print(a * b)"
      ]
    },
    {
      "cell_type": "markdown",
      "metadata": {
        "id": "j2cBU6LXNda0"
      },
      "source": [
        "С помощью метода `a.sum` можно посчитать сумму всех значений массива. Если указать в этом методе ось `axis`, сумма будет посчитана только вдоль этой оси:"
      ]
    },
    {
      "cell_type": "code",
      "execution_count": 95,
      "metadata": {
        "colab": {
          "base_uri": "https://localhost:8080/"
        },
        "id": "wAFntVvCNda0",
        "outputId": "6125e7f1-f690-4bda-b36b-424b340b22a6"
      },
      "outputs": [
        {
          "name": "stdout",
          "output_type": "stream",
          "text": [
            "Сумма всех элементов: 15\n",
            "Сумма по столбцам (\"вдоль\" строк): [3 5 7]\n",
            "Сумма по строкам (\"вдоль\" столбцов): [ 3 12]\n"
          ]
        }
      ],
      "source": [
        "print(\"Сумма всех элементов: {}\".format(a.sum()))\n",
        "\n",
        "print('Сумма по столбцам (\"вдоль\" строк): {}'.format(a.sum(axis=0)))\n",
        "\n",
        "print('Сумма по строкам (\"вдоль\" столбцов): {}'.format(a.sum(axis=1)))"
      ]
    },
    {
      "cell_type": "markdown",
      "metadata": {
        "id": "OX5frGgwGeyI"
      },
      "source": [
        "#### Broadcasting\n",
        "\n",
        "В определённых случаях мы можем выполнять операции сложения и умножения над матрицами разных размеров. Концепция _broadcasting_ заключается в том, что в некоторых случаях интерпретатор \"догадывается\", что одну массив надо в каком-то измерении \"растянуть\" до соответствия со вторым массивом. Рассмотрим массив размера $3 \\times 2$:"
      ]
    },
    {
      "cell_type": "code",
      "execution_count": 96,
      "metadata": {
        "id": "RYFfBJ5sNda1"
      },
      "outputs": [],
      "source": [
        "a = np.array([[2, 5],\n",
        "              [3, 4],\n",
        "              [6, 1]])"
      ]
    },
    {
      "cell_type": "markdown",
      "metadata": {
        "id": "xM5Eu7GnNda1"
      },
      "source": [
        "а также одномерный массив размера $2$:"
      ]
    },
    {
      "cell_type": "code",
      "execution_count": 97,
      "metadata": {
        "id": "gmgeCgxCNda1"
      },
      "outputs": [],
      "source": [
        "b = np.array([1, 2])"
      ]
    },
    {
      "cell_type": "markdown",
      "metadata": {
        "id": "Pti6Z0qqNda1"
      },
      "source": [
        "Если мы попытаемся их сложить, интерпретатор заметит, что у них совпадает одно из измерений: у них обоих $2$ столбца. Поэтому интерпретатор как бы \"растянет\" массив `b` до размера $2 \\times 3$ и прибавит его к массиву `a`:"
      ]
    },
    {
      "cell_type": "code",
      "execution_count": 98,
      "metadata": {
        "colab": {
          "base_uri": "https://localhost:8080/"
        },
        "id": "HcYxxfoeNda1",
        "outputId": "d6c1d573-dc58-4a36-e1c7-7210b00c89ae"
      },
      "outputs": [
        {
          "name": "stdout",
          "output_type": "stream",
          "text": [
            "[[3 7]\n",
            " [4 6]\n",
            " [7 3]]\n"
          ]
        }
      ],
      "source": [
        "c = a + b\n",
        "\n",
        "print(c)"
      ]
    },
    {
      "cell_type": "markdown",
      "metadata": {
        "id": "qwSMeJYyNda1"
      },
      "source": [
        "На самом деле здесь строка `b` просто прибавится к каждой строке массива `a`.\n",
        "\n",
        "Аналогично можно поступить и со столбцами:"
      ]
    },
    {
      "cell_type": "code",
      "execution_count": 99,
      "metadata": {
        "colab": {
          "base_uri": "https://localhost:8080/"
        },
        "id": "xhIJOuwINda2",
        "outputId": "05e0d798-12f7-4e4b-c08c-b9fc1522647b"
      },
      "outputs": [
        {
          "name": "stdout",
          "output_type": "stream",
          "text": [
            "[[2 5]\n",
            " [4 5]\n",
            " [5 0]]\n"
          ]
        }
      ],
      "source": [
        "d = np.array([[0],\n",
        "              [1],\n",
        "              [-1]])\n",
        "\n",
        "e = a + d\n",
        "\n",
        "print(e)"
      ]
    },
    {
      "cell_type": "markdown",
      "metadata": {
        "id": "RCsj83VkNda2"
      },
      "source": [
        "Интерпретатор заметит, что у этих массивов совпадает число строк, поэтому \"растянет\" массив `d` до размера массива `a`. Попросту говоря, столбец `b` прибавится к каждому из столбцов массива `a`.\n",
        "\n",
        "Имеются и более сложные конструкции broadcasting, о них можно почитать [здесь](https://docs.scipy.org/doc/numpy/user/basics.broadcasting.html).\n",
        "\n",
        "В случае, когда размеры массивов согласовать не удаётся, выпадает ошибка:"
      ]
    },
    {
      "cell_type": "code",
      "execution_count": 100,
      "metadata": {
        "colab": {
          "base_uri": "https://localhost:8080/",
          "height": 217
        },
        "id": "rcbNPZ5GNda3",
        "outputId": "5ed31639-602c-4675-e17a-afe6c1215e57"
      },
      "outputs": [
        {
          "ename": "ValueError",
          "evalue": "ignored",
          "output_type": "error",
          "traceback": [
            "\u001b[0;31m---------------------------------------------------------------------------\u001b[0m",
            "\u001b[0;31mValueError\u001b[0m                                Traceback (most recent call last)",
            "\u001b[0;32m<ipython-input-100-bbb4a55e5786>\u001b[0m in \u001b[0;36m<cell line: 3>\u001b[0;34m()\u001b[0m\n\u001b[1;32m      1\u001b[0m \u001b[0mf\u001b[0m \u001b[0;34m=\u001b[0m \u001b[0mnp\u001b[0m\u001b[0;34m.\u001b[0m\u001b[0marray\u001b[0m\u001b[0;34m(\u001b[0m\u001b[0;34m[\u001b[0m\u001b[0;36m0\u001b[0m\u001b[0;34m,\u001b[0m \u001b[0;36m1\u001b[0m\u001b[0;34m,\u001b[0m \u001b[0;34m-\u001b[0m\u001b[0;36m1\u001b[0m\u001b[0;34m]\u001b[0m\u001b[0;34m)\u001b[0m\u001b[0;34m\u001b[0m\u001b[0;34m\u001b[0m\u001b[0m\n\u001b[1;32m      2\u001b[0m \u001b[0;34m\u001b[0m\u001b[0m\n\u001b[0;32m----> 3\u001b[0;31m \u001b[0ma\u001b[0m \u001b[0;34m+\u001b[0m \u001b[0mf\u001b[0m\u001b[0;34m\u001b[0m\u001b[0;34m\u001b[0m\u001b[0m\n\u001b[0m",
            "\u001b[0;31mValueError\u001b[0m: operands could not be broadcast together with shapes (3,2) (3,) "
          ]
        }
      ],
      "source": [
        "f = np.array([0, 1, -1])\n",
        "\n",
        "a + f"
      ]
    },
    {
      "cell_type": "markdown",
      "metadata": {
        "id": "uKCAGIzBNda3"
      },
      "source": [
        "#### Статистические функции\n",
        "\n",
        "Вот несколько методов, позволяющих вычислить различные статистики массива `a`:\n",
        "\n",
        "* `a.min` - минимальное значение\n",
        "* `a.max` - максимальное значение\n",
        "* `a.mean` - среднее значение\n",
        "* `a.std` - среднее квадратическое отклонение\n",
        "\n",
        "Все эти значения считаются по всему массиву, либо вдоль определённой оси, если задан параметр `axis`."
      ]
    },
    {
      "cell_type": "code",
      "execution_count": null,
      "metadata": {
        "colab": {
          "base_uri": "https://localhost:8080/",
          "height": 167
        },
        "id": "_-yuld7ZNda3",
        "outputId": "89c408ea-c73a-43e9-8da3-391245af16c4"
      },
      "outputs": [
        {
          "ename": "NameError",
          "evalue": "ignored",
          "output_type": "error",
          "traceback": [
            "\u001b[0;31m---------------------------------------------------------------------------\u001b[0m",
            "\u001b[0;31mNameError\u001b[0m                                 Traceback (most recent call last)",
            "\u001b[0;32m<ipython-input-1-bca0e2660b9f>\u001b[0m in \u001b[0;36m<module>\u001b[0;34m()\u001b[0m\n\u001b[0;32m----> 1\u001b[0;31m \u001b[0mprint\u001b[0m\u001b[0;34m(\u001b[0m\u001b[0ma\u001b[0m\u001b[0;34m)\u001b[0m\u001b[0;34m\u001b[0m\u001b[0;34m\u001b[0m\u001b[0m\n\u001b[0m",
            "\u001b[0;31mNameError\u001b[0m: name 'a' is not defined"
          ]
        }
      ],
      "source": [
        "print(a)"
      ]
    },
    {
      "cell_type": "code",
      "execution_count": null,
      "metadata": {
        "colab": {
          "base_uri": "https://localhost:8080/",
          "height": 238
        },
        "id": "JLAFUHk2Nda4",
        "outputId": "3322a85d-458b-44cd-d7d7-859f9c76c8e2"
      },
      "outputs": [
        {
          "ename": "NameError",
          "evalue": "ignored",
          "output_type": "error",
          "traceback": [
            "\u001b[0;31m---------------------------------------------------------------------------\u001b[0m",
            "\u001b[0;31mNameError\u001b[0m                                 Traceback (most recent call last)",
            "\u001b[0;32m<ipython-input-2-ef720e3fed40>\u001b[0m in \u001b[0;36m<module>\u001b[0;34m()\u001b[0m\n\u001b[0;32m----> 1\u001b[0;31m \u001b[0mprint\u001b[0m\u001b[0;34m(\u001b[0m\u001b[0;34m\"Минимальное значение: {}\"\u001b[0m\u001b[0;34m.\u001b[0m\u001b[0mformat\u001b[0m\u001b[0;34m(\u001b[0m\u001b[0ma\u001b[0m\u001b[0;34m.\u001b[0m\u001b[0mmin\u001b[0m\u001b[0;34m(\u001b[0m\u001b[0;34m)\u001b[0m\u001b[0;34m)\u001b[0m\u001b[0;34m)\u001b[0m\u001b[0;34m\u001b[0m\u001b[0;34m\u001b[0m\u001b[0m\n\u001b[0m\u001b[1;32m      2\u001b[0m \u001b[0;34m\u001b[0m\u001b[0m\n\u001b[1;32m      3\u001b[0m \u001b[0mprint\u001b[0m\u001b[0;34m(\u001b[0m\u001b[0;34m\"Средние значения строк: {}\"\u001b[0m\u001b[0;34m.\u001b[0m\u001b[0mformat\u001b[0m\u001b[0;34m(\u001b[0m\u001b[0ma\u001b[0m\u001b[0;34m.\u001b[0m\u001b[0mmean\u001b[0m\u001b[0;34m(\u001b[0m\u001b[0maxis\u001b[0m\u001b[0;34m=\u001b[0m\u001b[0;36m1\u001b[0m\u001b[0;34m)\u001b[0m\u001b[0;34m)\u001b[0m\u001b[0;34m)\u001b[0m\u001b[0;34m\u001b[0m\u001b[0;34m\u001b[0m\u001b[0m\n\u001b[1;32m      4\u001b[0m \u001b[0;34m\u001b[0m\u001b[0m\n\u001b[1;32m      5\u001b[0m \u001b[0mprint\u001b[0m\u001b[0;34m(\u001b[0m\u001b[0;34m\"Средние квадратические отклонения столбцов: {}\"\u001b[0m\u001b[0;34m.\u001b[0m\u001b[0mformat\u001b[0m\u001b[0;34m(\u001b[0m\u001b[0ma\u001b[0m\u001b[0;34m.\u001b[0m\u001b[0mmean\u001b[0m\u001b[0;34m(\u001b[0m\u001b[0maxis\u001b[0m\u001b[0;34m=\u001b[0m\u001b[0;36m0\u001b[0m\u001b[0;34m)\u001b[0m\u001b[0;34m)\u001b[0m\u001b[0;34m)\u001b[0m\u001b[0;34m\u001b[0m\u001b[0;34m\u001b[0m\u001b[0m\n",
            "\u001b[0;31mNameError\u001b[0m: name 'a' is not defined"
          ]
        }
      ],
      "source": [
        "print(\"Минимальное значение: {}\".format(a.min()))\n",
        "\n",
        "print(\"Средние значения строк: {}\".format(a.mean(axis=1)))\n",
        "\n",
        "print(\"Средние квадратические отклонения столбцов: {}\".format(a.mean(axis=0)))"
      ]
    },
    {
      "cell_type": "markdown",
      "metadata": {
        "id": "gLy_rR8pNda4"
      },
      "source": [
        "### Запись и чтение массивов из файла\n",
        "\n",
        "Массивы `numpy` можно сохранять в файлы с расширением `.npy` и читать из таких файлов.\n",
        "\n",
        "Для записи массива в файл используется функция `np.save`:"
      ]
    },
    {
      "cell_type": "code",
      "execution_count": null,
      "metadata": {
        "id": "_fzhK25wNda4"
      },
      "outputs": [],
      "source": [
        "np.save(\"a.npy\", a)"
      ]
    },
    {
      "cell_type": "markdown",
      "metadata": {
        "id": "W8aW0FDqNda5"
      },
      "source": [
        "Для чтения из файла используется функция `np.load`:"
      ]
    },
    {
      "cell_type": "code",
      "execution_count": null,
      "metadata": {
        "id": "mIEqwVC3Nda6"
      },
      "outputs": [],
      "source": [
        "a = np.load(\"a.npy\")"
      ]
    }
  ],
  "metadata": {
    "colab": {
      "collapsed_sections": [
        "gwxv0LrNNdZm",
        "dHiuuCHqNdZm",
        "Oist8E2-NdZv",
        "kMDvt2YvNdZy",
        "JMQuNJtNNdZ1",
        "GhozMn0YNdZ4",
        "lJ6_SJsVNdZ_",
        "cvP6Ak7vNdaJ",
        "d7kSsh9DNdaN",
        "WTZs7nZANdaR",
        "DPiPYM_TNdaT",
        "SkOw7SLwNdaq",
        "oPUtfGeYNdav",
        "T1bRZqfNNdav",
        "OX5frGgwGeyI",
        "uKCAGIzBNda3",
        "gLy_rR8pNda4"
      ],
      "provenance": []
    },
    "kernelspec": {
      "display_name": "Python 3",
      "language": "python",
      "name": "python3"
    },
    "language_info": {
      "codemirror_mode": {
        "name": "ipython",
        "version": 3
      },
      "file_extension": ".py",
      "mimetype": "text/x-python",
      "name": "python",
      "nbconvert_exporter": "python",
      "pygments_lexer": "ipython3",
      "version": "3.11.8"
    }
  },
  "nbformat": 4,
  "nbformat_minor": 0
}
